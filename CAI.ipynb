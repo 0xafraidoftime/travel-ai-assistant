{
  "nbformat": 4,
  "nbformat_minor": 0,
  "metadata": {
    "colab": {
      "provenance": []
    },
    "kernelspec": {
      "name": "python3",
      "display_name": "Python 3"
    },
    "language_info": {
      "name": "python"
    }
  },
  "cells": [
    {
      "cell_type": "markdown",
      "source": [
        "Task 1: Natural Language Understanding (NLU)"
      ],
      "metadata": {
        "id": "OJltGY9LjzPM"
      }
    },
    {
      "cell_type": "code",
      "execution_count": null,
      "metadata": {
        "colab": {
          "base_uri": "https://localhost:8080/"
        },
        "id": "N-nYQGhO7GG8",
        "outputId": "f0a50ece-c076-4b3d-82ab-ced8f152e93d"
      },
      "outputs": [
        {
          "output_type": "stream",
          "name": "stdout",
          "text": [
            "Requirement already satisfied: spacy in /usr/local/lib/python3.10/dist-packages (3.7.6)\n",
            "Requirement already satisfied: spacy-legacy<3.1.0,>=3.0.11 in /usr/local/lib/python3.10/dist-packages (from spacy) (3.0.12)\n",
            "Requirement already satisfied: spacy-loggers<2.0.0,>=1.0.0 in /usr/local/lib/python3.10/dist-packages (from spacy) (1.0.5)\n",
            "Requirement already satisfied: murmurhash<1.1.0,>=0.28.0 in /usr/local/lib/python3.10/dist-packages (from spacy) (1.0.10)\n",
            "Requirement already satisfied: cymem<2.1.0,>=2.0.2 in /usr/local/lib/python3.10/dist-packages (from spacy) (2.0.8)\n",
            "Requirement already satisfied: preshed<3.1.0,>=3.0.2 in /usr/local/lib/python3.10/dist-packages (from spacy) (3.0.9)\n",
            "Requirement already satisfied: thinc<8.3.0,>=8.2.2 in /usr/local/lib/python3.10/dist-packages (from spacy) (8.2.5)\n",
            "Requirement already satisfied: wasabi<1.2.0,>=0.9.1 in /usr/local/lib/python3.10/dist-packages (from spacy) (1.1.3)\n",
            "Requirement already satisfied: srsly<3.0.0,>=2.4.3 in /usr/local/lib/python3.10/dist-packages (from spacy) (2.4.8)\n",
            "Requirement already satisfied: catalogue<2.1.0,>=2.0.6 in /usr/local/lib/python3.10/dist-packages (from spacy) (2.0.10)\n",
            "Requirement already satisfied: weasel<0.5.0,>=0.1.0 in /usr/local/lib/python3.10/dist-packages (from spacy) (0.4.1)\n",
            "Requirement already satisfied: typer<1.0.0,>=0.3.0 in /usr/local/lib/python3.10/dist-packages (from spacy) (0.12.5)\n",
            "Requirement already satisfied: tqdm<5.0.0,>=4.38.0 in /usr/local/lib/python3.10/dist-packages (from spacy) (4.66.5)\n",
            "Requirement already satisfied: requests<3.0.0,>=2.13.0 in /usr/local/lib/python3.10/dist-packages (from spacy) (2.32.3)\n",
            "Requirement already satisfied: pydantic!=1.8,!=1.8.1,<3.0.0,>=1.7.4 in /usr/local/lib/python3.10/dist-packages (from spacy) (2.9.2)\n",
            "Requirement already satisfied: jinja2 in /usr/local/lib/python3.10/dist-packages (from spacy) (3.1.4)\n",
            "Requirement already satisfied: setuptools in /usr/local/lib/python3.10/dist-packages (from spacy) (71.0.4)\n",
            "Requirement already satisfied: packaging>=20.0 in /usr/local/lib/python3.10/dist-packages (from spacy) (24.1)\n",
            "Requirement already satisfied: langcodes<4.0.0,>=3.2.0 in /usr/local/lib/python3.10/dist-packages (from spacy) (3.4.0)\n",
            "Requirement already satisfied: numpy>=1.19.0 in /usr/local/lib/python3.10/dist-packages (from spacy) (1.26.4)\n",
            "Requirement already satisfied: language-data>=1.2 in /usr/local/lib/python3.10/dist-packages (from langcodes<4.0.0,>=3.2.0->spacy) (1.2.0)\n",
            "Requirement already satisfied: annotated-types>=0.6.0 in /usr/local/lib/python3.10/dist-packages (from pydantic!=1.8,!=1.8.1,<3.0.0,>=1.7.4->spacy) (0.7.0)\n",
            "Requirement already satisfied: pydantic-core==2.23.4 in /usr/local/lib/python3.10/dist-packages (from pydantic!=1.8,!=1.8.1,<3.0.0,>=1.7.4->spacy) (2.23.4)\n",
            "Requirement already satisfied: typing-extensions>=4.6.1 in /usr/local/lib/python3.10/dist-packages (from pydantic!=1.8,!=1.8.1,<3.0.0,>=1.7.4->spacy) (4.12.2)\n",
            "Requirement already satisfied: charset-normalizer<4,>=2 in /usr/local/lib/python3.10/dist-packages (from requests<3.0.0,>=2.13.0->spacy) (3.3.2)\n",
            "Requirement already satisfied: idna<4,>=2.5 in /usr/local/lib/python3.10/dist-packages (from requests<3.0.0,>=2.13.0->spacy) (3.10)\n",
            "Requirement already satisfied: urllib3<3,>=1.21.1 in /usr/local/lib/python3.10/dist-packages (from requests<3.0.0,>=2.13.0->spacy) (2.0.7)\n",
            "Requirement already satisfied: certifi>=2017.4.17 in /usr/local/lib/python3.10/dist-packages (from requests<3.0.0,>=2.13.0->spacy) (2024.8.30)\n",
            "Requirement already satisfied: blis<0.8.0,>=0.7.8 in /usr/local/lib/python3.10/dist-packages (from thinc<8.3.0,>=8.2.2->spacy) (0.7.11)\n",
            "Requirement already satisfied: confection<1.0.0,>=0.0.1 in /usr/local/lib/python3.10/dist-packages (from thinc<8.3.0,>=8.2.2->spacy) (0.1.5)\n",
            "Requirement already satisfied: click>=8.0.0 in /usr/local/lib/python3.10/dist-packages (from typer<1.0.0,>=0.3.0->spacy) (8.1.7)\n",
            "Requirement already satisfied: shellingham>=1.3.0 in /usr/local/lib/python3.10/dist-packages (from typer<1.0.0,>=0.3.0->spacy) (1.5.4)\n",
            "Requirement already satisfied: rich>=10.11.0 in /usr/local/lib/python3.10/dist-packages (from typer<1.0.0,>=0.3.0->spacy) (13.8.1)\n",
            "Requirement already satisfied: cloudpathlib<1.0.0,>=0.7.0 in /usr/local/lib/python3.10/dist-packages (from weasel<0.5.0,>=0.1.0->spacy) (0.19.0)\n",
            "Requirement already satisfied: smart-open<8.0.0,>=5.2.1 in /usr/local/lib/python3.10/dist-packages (from weasel<0.5.0,>=0.1.0->spacy) (7.0.4)\n",
            "Requirement already satisfied: MarkupSafe>=2.0 in /usr/local/lib/python3.10/dist-packages (from jinja2->spacy) (2.1.5)\n",
            "Requirement already satisfied: marisa-trie>=0.7.7 in /usr/local/lib/python3.10/dist-packages (from language-data>=1.2->langcodes<4.0.0,>=3.2.0->spacy) (1.2.0)\n",
            "Requirement already satisfied: markdown-it-py>=2.2.0 in /usr/local/lib/python3.10/dist-packages (from rich>=10.11.0->typer<1.0.0,>=0.3.0->spacy) (3.0.0)\n",
            "Requirement already satisfied: pygments<3.0.0,>=2.13.0 in /usr/local/lib/python3.10/dist-packages (from rich>=10.11.0->typer<1.0.0,>=0.3.0->spacy) (2.18.0)\n",
            "Requirement already satisfied: wrapt in /usr/local/lib/python3.10/dist-packages (from smart-open<8.0.0,>=5.2.1->weasel<0.5.0,>=0.1.0->spacy) (1.16.0)\n",
            "Requirement already satisfied: mdurl~=0.1 in /usr/local/lib/python3.10/dist-packages (from markdown-it-py>=2.2.0->rich>=10.11.0->typer<1.0.0,>=0.3.0->spacy) (0.1.2)\n",
            "Collecting en-core-web-sm==3.7.1\n",
            "  Downloading https://github.com/explosion/spacy-models/releases/download/en_core_web_sm-3.7.1/en_core_web_sm-3.7.1-py3-none-any.whl (12.8 MB)\n",
            "\u001b[2K     \u001b[90m━━━━━━━━━━━━━━━━━━━━━━━━━━━━━━━━━━━━━━━━\u001b[0m \u001b[32m12.8/12.8 MB\u001b[0m \u001b[31m54.4 MB/s\u001b[0m eta \u001b[36m0:00:00\u001b[0m\n",
            "\u001b[?25hRequirement already satisfied: spacy<3.8.0,>=3.7.2 in /usr/local/lib/python3.10/dist-packages (from en-core-web-sm==3.7.1) (3.7.6)\n",
            "Requirement already satisfied: spacy-legacy<3.1.0,>=3.0.11 in /usr/local/lib/python3.10/dist-packages (from spacy<3.8.0,>=3.7.2->en-core-web-sm==3.7.1) (3.0.12)\n",
            "Requirement already satisfied: spacy-loggers<2.0.0,>=1.0.0 in /usr/local/lib/python3.10/dist-packages (from spacy<3.8.0,>=3.7.2->en-core-web-sm==3.7.1) (1.0.5)\n",
            "Requirement already satisfied: murmurhash<1.1.0,>=0.28.0 in /usr/local/lib/python3.10/dist-packages (from spacy<3.8.0,>=3.7.2->en-core-web-sm==3.7.1) (1.0.10)\n",
            "Requirement already satisfied: cymem<2.1.0,>=2.0.2 in /usr/local/lib/python3.10/dist-packages (from spacy<3.8.0,>=3.7.2->en-core-web-sm==3.7.1) (2.0.8)\n",
            "Requirement already satisfied: preshed<3.1.0,>=3.0.2 in /usr/local/lib/python3.10/dist-packages (from spacy<3.8.0,>=3.7.2->en-core-web-sm==3.7.1) (3.0.9)\n",
            "Requirement already satisfied: thinc<8.3.0,>=8.2.2 in /usr/local/lib/python3.10/dist-packages (from spacy<3.8.0,>=3.7.2->en-core-web-sm==3.7.1) (8.2.5)\n",
            "Requirement already satisfied: wasabi<1.2.0,>=0.9.1 in /usr/local/lib/python3.10/dist-packages (from spacy<3.8.0,>=3.7.2->en-core-web-sm==3.7.1) (1.1.3)\n",
            "Requirement already satisfied: srsly<3.0.0,>=2.4.3 in /usr/local/lib/python3.10/dist-packages (from spacy<3.8.0,>=3.7.2->en-core-web-sm==3.7.1) (2.4.8)\n",
            "Requirement already satisfied: catalogue<2.1.0,>=2.0.6 in /usr/local/lib/python3.10/dist-packages (from spacy<3.8.0,>=3.7.2->en-core-web-sm==3.7.1) (2.0.10)\n",
            "Requirement already satisfied: weasel<0.5.0,>=0.1.0 in /usr/local/lib/python3.10/dist-packages (from spacy<3.8.0,>=3.7.2->en-core-web-sm==3.7.1) (0.4.1)\n",
            "Requirement already satisfied: typer<1.0.0,>=0.3.0 in /usr/local/lib/python3.10/dist-packages (from spacy<3.8.0,>=3.7.2->en-core-web-sm==3.7.1) (0.12.5)\n",
            "Requirement already satisfied: tqdm<5.0.0,>=4.38.0 in /usr/local/lib/python3.10/dist-packages (from spacy<3.8.0,>=3.7.2->en-core-web-sm==3.7.1) (4.66.5)\n",
            "Requirement already satisfied: requests<3.0.0,>=2.13.0 in /usr/local/lib/python3.10/dist-packages (from spacy<3.8.0,>=3.7.2->en-core-web-sm==3.7.1) (2.32.3)\n",
            "Requirement already satisfied: pydantic!=1.8,!=1.8.1,<3.0.0,>=1.7.4 in /usr/local/lib/python3.10/dist-packages (from spacy<3.8.0,>=3.7.2->en-core-web-sm==3.7.1) (2.9.2)\n",
            "Requirement already satisfied: jinja2 in /usr/local/lib/python3.10/dist-packages (from spacy<3.8.0,>=3.7.2->en-core-web-sm==3.7.1) (3.1.4)\n",
            "Requirement already satisfied: setuptools in /usr/local/lib/python3.10/dist-packages (from spacy<3.8.0,>=3.7.2->en-core-web-sm==3.7.1) (71.0.4)\n",
            "Requirement already satisfied: packaging>=20.0 in /usr/local/lib/python3.10/dist-packages (from spacy<3.8.0,>=3.7.2->en-core-web-sm==3.7.1) (24.1)\n",
            "Requirement already satisfied: langcodes<4.0.0,>=3.2.0 in /usr/local/lib/python3.10/dist-packages (from spacy<3.8.0,>=3.7.2->en-core-web-sm==3.7.1) (3.4.0)\n",
            "Requirement already satisfied: numpy>=1.19.0 in /usr/local/lib/python3.10/dist-packages (from spacy<3.8.0,>=3.7.2->en-core-web-sm==3.7.1) (1.26.4)\n",
            "Requirement already satisfied: language-data>=1.2 in /usr/local/lib/python3.10/dist-packages (from langcodes<4.0.0,>=3.2.0->spacy<3.8.0,>=3.7.2->en-core-web-sm==3.7.1) (1.2.0)\n",
            "Requirement already satisfied: annotated-types>=0.6.0 in /usr/local/lib/python3.10/dist-packages (from pydantic!=1.8,!=1.8.1,<3.0.0,>=1.7.4->spacy<3.8.0,>=3.7.2->en-core-web-sm==3.7.1) (0.7.0)\n",
            "Requirement already satisfied: pydantic-core==2.23.4 in /usr/local/lib/python3.10/dist-packages (from pydantic!=1.8,!=1.8.1,<3.0.0,>=1.7.4->spacy<3.8.0,>=3.7.2->en-core-web-sm==3.7.1) (2.23.4)\n",
            "Requirement already satisfied: typing-extensions>=4.6.1 in /usr/local/lib/python3.10/dist-packages (from pydantic!=1.8,!=1.8.1,<3.0.0,>=1.7.4->spacy<3.8.0,>=3.7.2->en-core-web-sm==3.7.1) (4.12.2)\n",
            "Requirement already satisfied: charset-normalizer<4,>=2 in /usr/local/lib/python3.10/dist-packages (from requests<3.0.0,>=2.13.0->spacy<3.8.0,>=3.7.2->en-core-web-sm==3.7.1) (3.3.2)\n",
            "Requirement already satisfied: idna<4,>=2.5 in /usr/local/lib/python3.10/dist-packages (from requests<3.0.0,>=2.13.0->spacy<3.8.0,>=3.7.2->en-core-web-sm==3.7.1) (3.10)\n",
            "Requirement already satisfied: urllib3<3,>=1.21.1 in /usr/local/lib/python3.10/dist-packages (from requests<3.0.0,>=2.13.0->spacy<3.8.0,>=3.7.2->en-core-web-sm==3.7.1) (2.0.7)\n",
            "Requirement already satisfied: certifi>=2017.4.17 in /usr/local/lib/python3.10/dist-packages (from requests<3.0.0,>=2.13.0->spacy<3.8.0,>=3.7.2->en-core-web-sm==3.7.1) (2024.8.30)\n",
            "Requirement already satisfied: blis<0.8.0,>=0.7.8 in /usr/local/lib/python3.10/dist-packages (from thinc<8.3.0,>=8.2.2->spacy<3.8.0,>=3.7.2->en-core-web-sm==3.7.1) (0.7.11)\n",
            "Requirement already satisfied: confection<1.0.0,>=0.0.1 in /usr/local/lib/python3.10/dist-packages (from thinc<8.3.0,>=8.2.2->spacy<3.8.0,>=3.7.2->en-core-web-sm==3.7.1) (0.1.5)\n",
            "Requirement already satisfied: click>=8.0.0 in /usr/local/lib/python3.10/dist-packages (from typer<1.0.0,>=0.3.0->spacy<3.8.0,>=3.7.2->en-core-web-sm==3.7.1) (8.1.7)\n",
            "Requirement already satisfied: shellingham>=1.3.0 in /usr/local/lib/python3.10/dist-packages (from typer<1.0.0,>=0.3.0->spacy<3.8.0,>=3.7.2->en-core-web-sm==3.7.1) (1.5.4)\n",
            "Requirement already satisfied: rich>=10.11.0 in /usr/local/lib/python3.10/dist-packages (from typer<1.0.0,>=0.3.0->spacy<3.8.0,>=3.7.2->en-core-web-sm==3.7.1) (13.8.1)\n",
            "Requirement already satisfied: cloudpathlib<1.0.0,>=0.7.0 in /usr/local/lib/python3.10/dist-packages (from weasel<0.5.0,>=0.1.0->spacy<3.8.0,>=3.7.2->en-core-web-sm==3.7.1) (0.19.0)\n",
            "Requirement already satisfied: smart-open<8.0.0,>=5.2.1 in /usr/local/lib/python3.10/dist-packages (from weasel<0.5.0,>=0.1.0->spacy<3.8.0,>=3.7.2->en-core-web-sm==3.7.1) (7.0.4)\n",
            "Requirement already satisfied: MarkupSafe>=2.0 in /usr/local/lib/python3.10/dist-packages (from jinja2->spacy<3.8.0,>=3.7.2->en-core-web-sm==3.7.1) (2.1.5)\n",
            "Requirement already satisfied: marisa-trie>=0.7.7 in /usr/local/lib/python3.10/dist-packages (from language-data>=1.2->langcodes<4.0.0,>=3.2.0->spacy<3.8.0,>=3.7.2->en-core-web-sm==3.7.1) (1.2.0)\n",
            "Requirement already satisfied: markdown-it-py>=2.2.0 in /usr/local/lib/python3.10/dist-packages (from rich>=10.11.0->typer<1.0.0,>=0.3.0->spacy<3.8.0,>=3.7.2->en-core-web-sm==3.7.1) (3.0.0)\n",
            "Requirement already satisfied: pygments<3.0.0,>=2.13.0 in /usr/local/lib/python3.10/dist-packages (from rich>=10.11.0->typer<1.0.0,>=0.3.0->spacy<3.8.0,>=3.7.2->en-core-web-sm==3.7.1) (2.18.0)\n",
            "Requirement already satisfied: wrapt in /usr/local/lib/python3.10/dist-packages (from smart-open<8.0.0,>=5.2.1->weasel<0.5.0,>=0.1.0->spacy<3.8.0,>=3.7.2->en-core-web-sm==3.7.1) (1.16.0)\n",
            "Requirement already satisfied: mdurl~=0.1 in /usr/local/lib/python3.10/dist-packages (from markdown-it-py>=2.2.0->rich>=10.11.0->typer<1.0.0,>=0.3.0->spacy<3.8.0,>=3.7.2->en-core-web-sm==3.7.1) (0.1.2)\n",
            "\u001b[38;5;2m✔ Download and installation successful\u001b[0m\n",
            "You can now load the package via spacy.load('en_core_web_sm')\n",
            "\u001b[38;5;3m⚠ Restart to reload dependencies\u001b[0m\n",
            "If you are in a Jupyter or Colab notebook, you may need to restart Python in\n",
            "order to load all the package's dependencies. You can do this by selecting the\n",
            "'Restart kernel' or 'Restart runtime' option.\n"
          ]
        }
      ],
      "source": [
        "!pip install spacy\n",
        "!python -m spacy download en_core_web_sm\n"
      ]
    },
    {
      "cell_type": "code",
      "source": [
        "import spacy\n",
        "\n",
        "# Load the spaCy model\n",
        "nlp = spacy.load(\"en_core_web_sm\")\n",
        "\n",
        "def process_input(user_input):\n",
        "    doc = nlp(user_input)\n",
        "\n",
        "    # Extracting entities (e.g., dates, locations)\n",
        "    for ent in doc.ents:\n",
        "        print(f\"{ent.text} - {ent.label_}\")\n",
        "\n",
        "    # Simple rule-based intent detection\n",
        "    if \"book a flight\" in user_input.lower():\n",
        "        return \"Booking Flight\"\n",
        "    elif \"hotel\" in user_input.lower():\n",
        "        return \"Hotel Inquiry\"\n",
        "    return \"General Inquiry\"\n",
        "\n",
        "# Example usage\n",
        "user_input = \"I want to book a flight to New York on September 21\"\n",
        "intent = process_input(user_input)\n",
        "print(f\"Detected Intent: {intent}\")\n"
      ],
      "metadata": {
        "colab": {
          "base_uri": "https://localhost:8080/"
        },
        "id": "AJFpIvyI5dmv",
        "outputId": "9a2a0c68-c999-44fd-f43a-45e567feb6e1"
      },
      "execution_count": null,
      "outputs": [
        {
          "output_type": "stream",
          "name": "stdout",
          "text": [
            "New York - GPE\n",
            "September 21 - DATE\n",
            "Detected Intent: Booking Flight\n"
          ]
        }
      ]
    },
    {
      "cell_type": "markdown",
      "source": [
        "Task 2: Training on Travel-Related Conversations\n",
        "\n",
        "Using Hugging Face's transformers library for training on travel-related conversations."
      ],
      "metadata": {
        "id": "6YF_o2dB5kgA"
      }
    },
    {
      "cell_type": "code",
      "source": [
        "!pip install transformers datasets\n"
      ],
      "metadata": {
        "colab": {
          "base_uri": "https://localhost:8080/"
        },
        "id": "-pHquiDi5mbv",
        "outputId": "0d78076b-18f6-479d-bb0c-584c9ef9c650"
      },
      "execution_count": null,
      "outputs": [
        {
          "output_type": "stream",
          "name": "stdout",
          "text": [
            "Requirement already satisfied: transformers in /usr/local/lib/python3.10/dist-packages (4.44.2)\n",
            "Collecting datasets\n",
            "  Downloading datasets-3.0.0-py3-none-any.whl.metadata (19 kB)\n",
            "Requirement already satisfied: filelock in /usr/local/lib/python3.10/dist-packages (from transformers) (3.16.0)\n",
            "Requirement already satisfied: huggingface-hub<1.0,>=0.23.2 in /usr/local/lib/python3.10/dist-packages (from transformers) (0.24.7)\n",
            "Requirement already satisfied: numpy>=1.17 in /usr/local/lib/python3.10/dist-packages (from transformers) (1.26.4)\n",
            "Requirement already satisfied: packaging>=20.0 in /usr/local/lib/python3.10/dist-packages (from transformers) (24.1)\n",
            "Requirement already satisfied: pyyaml>=5.1 in /usr/local/lib/python3.10/dist-packages (from transformers) (6.0.2)\n",
            "Requirement already satisfied: regex!=2019.12.17 in /usr/local/lib/python3.10/dist-packages (from transformers) (2024.9.11)\n",
            "Requirement already satisfied: requests in /usr/local/lib/python3.10/dist-packages (from transformers) (2.32.3)\n",
            "Requirement already satisfied: safetensors>=0.4.1 in /usr/local/lib/python3.10/dist-packages (from transformers) (0.4.5)\n",
            "Requirement already satisfied: tokenizers<0.20,>=0.19 in /usr/local/lib/python3.10/dist-packages (from transformers) (0.19.1)\n",
            "Requirement already satisfied: tqdm>=4.27 in /usr/local/lib/python3.10/dist-packages (from transformers) (4.66.5)\n",
            "Collecting pyarrow>=15.0.0 (from datasets)\n",
            "  Downloading pyarrow-17.0.0-cp310-cp310-manylinux_2_28_x86_64.whl.metadata (3.3 kB)\n",
            "Collecting dill<0.3.9,>=0.3.0 (from datasets)\n",
            "  Downloading dill-0.3.8-py3-none-any.whl.metadata (10 kB)\n",
            "Requirement already satisfied: pandas in /usr/local/lib/python3.10/dist-packages (from datasets) (2.1.4)\n",
            "Collecting xxhash (from datasets)\n",
            "  Downloading xxhash-3.5.0-cp310-cp310-manylinux_2_17_x86_64.manylinux2014_x86_64.whl.metadata (12 kB)\n",
            "Collecting multiprocess (from datasets)\n",
            "  Downloading multiprocess-0.70.16-py310-none-any.whl.metadata (7.2 kB)\n",
            "Requirement already satisfied: fsspec<=2024.6.1,>=2023.1.0 in /usr/local/lib/python3.10/dist-packages (from fsspec[http]<=2024.6.1,>=2023.1.0->datasets) (2024.6.1)\n",
            "Requirement already satisfied: aiohttp in /usr/local/lib/python3.10/dist-packages (from datasets) (3.10.5)\n",
            "Requirement already satisfied: aiohappyeyeballs>=2.3.0 in /usr/local/lib/python3.10/dist-packages (from aiohttp->datasets) (2.4.0)\n",
            "Requirement already satisfied: aiosignal>=1.1.2 in /usr/local/lib/python3.10/dist-packages (from aiohttp->datasets) (1.3.1)\n",
            "Requirement already satisfied: attrs>=17.3.0 in /usr/local/lib/python3.10/dist-packages (from aiohttp->datasets) (24.2.0)\n",
            "Requirement already satisfied: frozenlist>=1.1.1 in /usr/local/lib/python3.10/dist-packages (from aiohttp->datasets) (1.4.1)\n",
            "Requirement already satisfied: multidict<7.0,>=4.5 in /usr/local/lib/python3.10/dist-packages (from aiohttp->datasets) (6.1.0)\n",
            "Requirement already satisfied: yarl<2.0,>=1.0 in /usr/local/lib/python3.10/dist-packages (from aiohttp->datasets) (1.11.1)\n",
            "Requirement already satisfied: async-timeout<5.0,>=4.0 in /usr/local/lib/python3.10/dist-packages (from aiohttp->datasets) (4.0.3)\n",
            "Requirement already satisfied: typing-extensions>=3.7.4.3 in /usr/local/lib/python3.10/dist-packages (from huggingface-hub<1.0,>=0.23.2->transformers) (4.12.2)\n",
            "Requirement already satisfied: charset-normalizer<4,>=2 in /usr/local/lib/python3.10/dist-packages (from requests->transformers) (3.3.2)\n",
            "Requirement already satisfied: idna<4,>=2.5 in /usr/local/lib/python3.10/dist-packages (from requests->transformers) (3.10)\n",
            "Requirement already satisfied: urllib3<3,>=1.21.1 in /usr/local/lib/python3.10/dist-packages (from requests->transformers) (2.0.7)\n",
            "Requirement already satisfied: certifi>=2017.4.17 in /usr/local/lib/python3.10/dist-packages (from requests->transformers) (2024.8.30)\n",
            "Requirement already satisfied: python-dateutil>=2.8.2 in /usr/local/lib/python3.10/dist-packages (from pandas->datasets) (2.8.2)\n",
            "Requirement already satisfied: pytz>=2020.1 in /usr/local/lib/python3.10/dist-packages (from pandas->datasets) (2024.2)\n",
            "Requirement already satisfied: tzdata>=2022.1 in /usr/local/lib/python3.10/dist-packages (from pandas->datasets) (2024.1)\n",
            "Requirement already satisfied: six>=1.5 in /usr/local/lib/python3.10/dist-packages (from python-dateutil>=2.8.2->pandas->datasets) (1.16.0)\n",
            "Downloading datasets-3.0.0-py3-none-any.whl (474 kB)\n",
            "\u001b[2K   \u001b[90m━━━━━━━━━━━━━━━━━━━━━━━━━━━━━━━━━━━━━━━━\u001b[0m \u001b[32m474.3/474.3 kB\u001b[0m \u001b[31m10.2 MB/s\u001b[0m eta \u001b[36m0:00:00\u001b[0m\n",
            "\u001b[?25hDownloading dill-0.3.8-py3-none-any.whl (116 kB)\n",
            "\u001b[2K   \u001b[90m━━━━━━━━━━━━━━━━━━━━━━━━━━━━━━━━━━━━━━━━\u001b[0m \u001b[32m116.3/116.3 kB\u001b[0m \u001b[31m7.1 MB/s\u001b[0m eta \u001b[36m0:00:00\u001b[0m\n",
            "\u001b[?25hDownloading pyarrow-17.0.0-cp310-cp310-manylinux_2_28_x86_64.whl (39.9 MB)\n",
            "\u001b[2K   \u001b[90m━━━━━━━━━━━━━━━━━━━━━━━━━━━━━━━━━━━━━━━━\u001b[0m \u001b[32m39.9/39.9 MB\u001b[0m \u001b[31m20.0 MB/s\u001b[0m eta \u001b[36m0:00:00\u001b[0m\n",
            "\u001b[?25hDownloading multiprocess-0.70.16-py310-none-any.whl (134 kB)\n",
            "\u001b[2K   \u001b[90m━━━━━━━━━━━━━━━━━━━━━━━━━━━━━━━━━━━━━━━━\u001b[0m \u001b[32m134.8/134.8 kB\u001b[0m \u001b[31m8.7 MB/s\u001b[0m eta \u001b[36m0:00:00\u001b[0m\n",
            "\u001b[?25hDownloading xxhash-3.5.0-cp310-cp310-manylinux_2_17_x86_64.manylinux2014_x86_64.whl (194 kB)\n",
            "\u001b[2K   \u001b[90m━━━━━━━━━━━━━━━━━━━━━━━━━━━━━━━━━━━━━━━━\u001b[0m \u001b[32m194.1/194.1 kB\u001b[0m \u001b[31m11.8 MB/s\u001b[0m eta \u001b[36m0:00:00\u001b[0m\n",
            "\u001b[?25hInstalling collected packages: xxhash, pyarrow, dill, multiprocess, datasets\n",
            "  Attempting uninstall: pyarrow\n",
            "    Found existing installation: pyarrow 14.0.2\n",
            "    Uninstalling pyarrow-14.0.2:\n",
            "      Successfully uninstalled pyarrow-14.0.2\n",
            "\u001b[31mERROR: pip's dependency resolver does not currently take into account all the packages that are installed. This behaviour is the source of the following dependency conflicts.\n",
            "cudf-cu12 24.4.1 requires pyarrow<15.0.0a0,>=14.0.1, but you have pyarrow 17.0.0 which is incompatible.\n",
            "ibis-framework 8.0.0 requires pyarrow<16,>=2, but you have pyarrow 17.0.0 which is incompatible.\u001b[0m\u001b[31m\n",
            "\u001b[0mSuccessfully installed datasets-3.0.0 dill-0.3.8 multiprocess-0.70.16 pyarrow-17.0.0 xxhash-3.5.0\n"
          ]
        }
      ]
    },
    {
      "cell_type": "code",
      "source": [
        "!pip install transformers\n",
        "\n",
        "from transformers import AutoModelForSeq2SeqLM, AutoTokenizer, pipeline\n",
        "\n",
        "# Load the pre-trained BlenderBot model\n",
        "model_name = \"facebook/blenderbot-400M-distill\"\n",
        "model = AutoModelForSeq2SeqLM.from_pretrained(model_name)\n",
        "tokenizer = AutoTokenizer.from_pretrained(model_name)\n",
        "\n",
        "# Initialize the text generation pipeline\n",
        "chatbot_pipeline = pipeline(\"text-generation\", model=model, tokenizer=tokenizer)\n",
        "\n",
        "def chatbot_response(user_input):\n",
        "    # Tokenize the user input\n",
        "    inputs = tokenizer.encode(user_input, return_tensors=\"pt\")\n",
        "\n",
        "    # Generate a response from the model\n",
        "    response_ids = model.generate(inputs, max_length=100, num_return_sequences=1)\n",
        "\n",
        "    # Decode the generated response back to text\n",
        "    response = tokenizer.decode(response_ids[0], skip_special_tokens=True)\n",
        "    return response\n",
        "\n",
        "# Example conversation\n",
        "user_input = \"I'm looking for a flight to Paris next week\"\n",
        "response = chatbot_response(user_input)\n",
        "print(f\"Chatbot: {response}\")\n"
      ],
      "metadata": {
        "colab": {
          "base_uri": "https://localhost:8080/"
        },
        "id": "c_rLxUjK5u_R",
        "outputId": "039dc2bc-7cd7-412c-ba30-c426e731fea2"
      },
      "execution_count": null,
      "outputs": [
        {
          "output_type": "stream",
          "name": "stdout",
          "text": [
            "Requirement already satisfied: transformers in /usr/local/lib/python3.10/dist-packages (4.44.2)\n",
            "Requirement already satisfied: filelock in /usr/local/lib/python3.10/dist-packages (from transformers) (3.16.0)\n",
            "Requirement already satisfied: huggingface-hub<1.0,>=0.23.2 in /usr/local/lib/python3.10/dist-packages (from transformers) (0.24.7)\n",
            "Requirement already satisfied: numpy>=1.17 in /usr/local/lib/python3.10/dist-packages (from transformers) (1.26.4)\n",
            "Requirement already satisfied: packaging>=20.0 in /usr/local/lib/python3.10/dist-packages (from transformers) (24.1)\n",
            "Requirement already satisfied: pyyaml>=5.1 in /usr/local/lib/python3.10/dist-packages (from transformers) (6.0.2)\n",
            "Requirement already satisfied: regex!=2019.12.17 in /usr/local/lib/python3.10/dist-packages (from transformers) (2024.9.11)\n",
            "Requirement already satisfied: requests in /usr/local/lib/python3.10/dist-packages (from transformers) (2.32.3)\n",
            "Requirement already satisfied: safetensors>=0.4.1 in /usr/local/lib/python3.10/dist-packages (from transformers) (0.4.5)\n",
            "Requirement already satisfied: tokenizers<0.20,>=0.19 in /usr/local/lib/python3.10/dist-packages (from transformers) (0.19.1)\n",
            "Requirement already satisfied: tqdm>=4.27 in /usr/local/lib/python3.10/dist-packages (from transformers) (4.66.5)\n",
            "Requirement already satisfied: fsspec>=2023.5.0 in /usr/local/lib/python3.10/dist-packages (from huggingface-hub<1.0,>=0.23.2->transformers) (2024.6.1)\n",
            "Requirement already satisfied: typing-extensions>=3.7.4.3 in /usr/local/lib/python3.10/dist-packages (from huggingface-hub<1.0,>=0.23.2->transformers) (4.12.2)\n",
            "Requirement already satisfied: charset-normalizer<4,>=2 in /usr/local/lib/python3.10/dist-packages (from requests->transformers) (3.3.2)\n",
            "Requirement already satisfied: idna<4,>=2.5 in /usr/local/lib/python3.10/dist-packages (from requests->transformers) (3.10)\n",
            "Requirement already satisfied: urllib3<3,>=1.21.1 in /usr/local/lib/python3.10/dist-packages (from requests->transformers) (2.0.7)\n",
            "Requirement already satisfied: certifi>=2017.4.17 in /usr/local/lib/python3.10/dist-packages (from requests->transformers) (2024.8.30)\n"
          ]
        },
        {
          "output_type": "stream",
          "name": "stderr",
          "text": [
            "The model 'BlenderbotForConditionalGeneration' is not supported for text-generation. Supported models are ['BartForCausalLM', 'BertLMHeadModel', 'BertGenerationDecoder', 'BigBirdForCausalLM', 'BigBirdPegasusForCausalLM', 'BioGptForCausalLM', 'BlenderbotForCausalLM', 'BlenderbotSmallForCausalLM', 'BloomForCausalLM', 'CamembertForCausalLM', 'LlamaForCausalLM', 'CodeGenForCausalLM', 'CohereForCausalLM', 'CpmAntForCausalLM', 'CTRLLMHeadModel', 'Data2VecTextForCausalLM', 'DbrxForCausalLM', 'ElectraForCausalLM', 'ErnieForCausalLM', 'FalconForCausalLM', 'FuyuForCausalLM', 'GemmaForCausalLM', 'Gemma2ForCausalLM', 'GitForCausalLM', 'GPT2LMHeadModel', 'GPT2LMHeadModel', 'GPTBigCodeForCausalLM', 'GPTNeoForCausalLM', 'GPTNeoXForCausalLM', 'GPTNeoXJapaneseForCausalLM', 'GPTJForCausalLM', 'JambaForCausalLM', 'JetMoeForCausalLM', 'LlamaForCausalLM', 'MambaForCausalLM', 'Mamba2ForCausalLM', 'MarianForCausalLM', 'MBartForCausalLM', 'MegaForCausalLM', 'MegatronBertForCausalLM', 'MistralForCausalLM', 'MixtralForCausalLM', 'MptForCausalLM', 'MusicgenForCausalLM', 'MusicgenMelodyForCausalLM', 'MvpForCausalLM', 'NemotronForCausalLM', 'OlmoForCausalLM', 'OpenLlamaForCausalLM', 'OpenAIGPTLMHeadModel', 'OPTForCausalLM', 'PegasusForCausalLM', 'PersimmonForCausalLM', 'PhiForCausalLM', 'Phi3ForCausalLM', 'PLBartForCausalLM', 'ProphetNetForCausalLM', 'QDQBertLMHeadModel', 'Qwen2ForCausalLM', 'Qwen2MoeForCausalLM', 'RecurrentGemmaForCausalLM', 'ReformerModelWithLMHead', 'RemBertForCausalLM', 'RobertaForCausalLM', 'RobertaPreLayerNormForCausalLM', 'RoCBertForCausalLM', 'RoFormerForCausalLM', 'RwkvForCausalLM', 'Speech2Text2ForCausalLM', 'StableLmForCausalLM', 'Starcoder2ForCausalLM', 'TransfoXLLMHeadModel', 'TrOCRForCausalLM', 'WhisperForCausalLM', 'XGLMForCausalLM', 'XLMWithLMHeadModel', 'XLMProphetNetForCausalLM', 'XLMRobertaForCausalLM', 'XLMRobertaXLForCausalLM', 'XLNetLMHeadModel', 'XmodForCausalLM'].\n"
          ]
        },
        {
          "output_type": "stream",
          "name": "stdout",
          "text": [
            "Chatbot:  I hope you have a great time! I've always wanted to visit Paris. Have you been before?\n"
          ]
        }
      ]
    },
    {
      "cell_type": "markdown",
      "source": [
        "Task 3: Database Integration and Querying\n",
        "\n",
        "Install SQLite in Colab to manage a small travel information database."
      ],
      "metadata": {
        "id": "Osmhta7L6jTf"
      }
    },
    {
      "cell_type": "code",
      "source": [
        "import sqlite3\n",
        "\n",
        "# Connect to the travel database\n",
        "conn = sqlite3.connect('travel_info.db')\n",
        "c = conn.cursor()\n",
        "\n",
        "# Create a table for flight schedules\n",
        "c.execute('''CREATE TABLE IF NOT EXISTS flights\n",
        "             (flight_number TEXT, destination TEXT, date TEXT, time TEXT)''')\n",
        "\n",
        "# Insert some dummy flight data\n",
        "c.execute(\"INSERT INTO flights VALUES ('AA123', 'New York', '2024-09-21', '08:30')\")\n",
        "\n",
        "conn.commit()\n",
        "\n",
        "# Query flight information\n",
        "def query_flight(destination, date):\n",
        "    c.execute(\"SELECT * FROM flights WHERE destination=? AND date=?\", (destination, date))\n",
        "    result = c.fetchone()\n",
        "    if result:\n",
        "        print(f\"Flight: {result}\")\n",
        "    else:\n",
        "        print(\"No flights found.\")\n",
        "\n",
        "query_flight('New York', '2024-09-21')\n"
      ],
      "metadata": {
        "colab": {
          "base_uri": "https://localhost:8080/"
        },
        "id": "COfwNhDV6kuH",
        "outputId": "6eb5e47f-c33e-4456-fe24-7ec6ef6c0e45"
      },
      "execution_count": null,
      "outputs": [
        {
          "output_type": "stream",
          "name": "stdout",
          "text": [
            "Flight: ('AA123', 'New York', '2024-09-21', '08:30')\n"
          ]
        }
      ]
    },
    {
      "cell_type": "markdown",
      "source": [
        "Task 4: API Handling\n",
        "\n",
        "Use the requests library to handle API calls. For demonstration, here’s an example of querying a travel API (Skyscanner or any other travel service API)."
      ],
      "metadata": {
        "id": "CZPgwJU_6q_J"
      }
    },
    {
      "cell_type": "code",
      "source": [
        "!pip install requests\n"
      ],
      "metadata": {
        "colab": {
          "base_uri": "https://localhost:8080/"
        },
        "id": "vAwt0cwf6trJ",
        "outputId": "dcbb079b-07d9-4a7f-ef09-6993cdac0737"
      },
      "execution_count": null,
      "outputs": [
        {
          "output_type": "stream",
          "name": "stdout",
          "text": [
            "Requirement already satisfied: requests in /usr/local/lib/python3.10/dist-packages (2.32.3)\n",
            "Requirement already satisfied: charset-normalizer<4,>=2 in /usr/local/lib/python3.10/dist-packages (from requests) (3.3.2)\n",
            "Requirement already satisfied: idna<4,>=2.5 in /usr/local/lib/python3.10/dist-packages (from requests) (3.10)\n",
            "Requirement already satisfied: urllib3<3,>=1.21.1 in /usr/local/lib/python3.10/dist-packages (from requests) (2.0.7)\n",
            "Requirement already satisfied: certifi>=2017.4.17 in /usr/local/lib/python3.10/dist-packages (from requests) (2024.8.30)\n"
          ]
        }
      ]
    },
    {
      "cell_type": "code",
      "source": [
        "import requests\n",
        "\n",
        "# Example API request (replace with actual API and keys)\n",
        "api_url = \"https://test.api.amadeus.com\"\n",
        "headers = {\"3lO1vlAw913kR45Wh2hzCLXV6ieAdaXg\": \"zgg7pEJtCGZpywtC\"}\n",
        "\n",
        "response = requests.get(api_url, headers=headers)\n",
        "\n",
        "if response.status_code == 200:\n",
        "    data = response.json()\n",
        "    print(data)  # Parse and use the flight data\n",
        "else:\n",
        "    print(\"API requesting...\")\n"
      ],
      "metadata": {
        "colab": {
          "base_uri": "https://localhost:8080/"
        },
        "id": "CW1QqhW461Oe",
        "outputId": "651fffb9-6d8f-46ca-d58b-b48411999768"
      },
      "execution_count": null,
      "outputs": [
        {
          "output_type": "stream",
          "name": "stdout",
          "text": [
            "API requesting...\n"
          ]
        }
      ]
    },
    {
      "cell_type": "code",
      "source": [
        "import requests\n",
        "\n",
        "# Replace these with your Amadeus API credentials\n",
        "API_KEY = \"3lO1vlAw913kR45Wh2hzCLXV6ieAdaXg\"\n",
        "API_SECRET = \"zgg7pEJtCGZpywtC\"\n",
        "\n",
        "# Amadeus authentication URL\n",
        "auth_url = \"https://test.api.amadeus.com/v1/security/oauth2/token\"\n",
        "\n",
        "# Request body for OAuth2 token\n",
        "data = {\n",
        "    'grant_type': 'client_credentials',\n",
        "    'client_id': API_KEY,\n",
        "    'client_secret': API_SECRET\n",
        "}\n",
        "\n",
        "# Making the request\n",
        "response = requests.post(auth_url, data=data)\n",
        "\n",
        "if response.status_code == 200:\n",
        "    access_token = response.json()['access_token']\n",
        "    print(\"Access Token:\", access_token)\n",
        "else:\n",
        "    print(\"Error:\", response.status_code, response.text)\n"
      ],
      "metadata": {
        "colab": {
          "base_uri": "https://localhost:8080/"
        },
        "id": "zPvsErp4DMeD",
        "outputId": "14684a61-d440-4f47-f65f-552b882cad63"
      },
      "execution_count": null,
      "outputs": [
        {
          "output_type": "stream",
          "name": "stdout",
          "text": [
            "Access Token: 3kUAtRI4AodnkvhG34y89ANgjmvE\n"
          ]
        }
      ]
    },
    {
      "cell_type": "code",
      "source": [
        "headers = {\n",
        "    'Authorization': f'Bearer {access_token}'\n",
        "}\n",
        "\n",
        "# Example API call to Amadeus\n",
        "flight_url = \"https://test.api.amadeus.com/v2/shopping/flight-offers\"\n",
        "params = {\n",
        "    \"originLocationCode\": \"LAX\",\n",
        "    \"destinationLocationCode\": \"JFK\",\n",
        "    \"departureDate\": \"2024-10-15\",\n",
        "    \"adults\": 1\n",
        "}\n",
        "\n",
        "response = requests.get(flight_url, headers=headers, params=params)\n",
        "\n",
        "if response.status_code == 200:\n",
        "    print(response.json())\n",
        "else:\n",
        "    print(\"Error:\", response.status_code, response.text)\n"
      ],
      "metadata": {
        "colab": {
          "base_uri": "https://localhost:8080/"
        },
        "id": "UzvjtLeeDfO8",
        "outputId": "208266db-0126-4242-fe83-a779639516b7"
      },
      "execution_count": null,
      "outputs": [
        {
          "output_type": "stream",
          "name": "stdout",
          "text": [
            "{'meta': {'count': 33, 'links': {'self': 'https://test.api.amadeus.com/v2/shopping/flight-offers?originLocationCode=LAX&destinationLocationCode=JFK&departureDate=2024-10-15&adults=1'}}, 'data': [{'type': 'flight-offer', 'id': '1', 'source': 'GDS', 'instantTicketingRequired': False, 'nonHomogeneous': False, 'oneWay': False, 'isUpsellOffer': False, 'lastTicketingDate': '2024-09-21', 'lastTicketingDateTime': '2024-09-21', 'numberOfBookableSeats': 7, 'itineraries': [{'duration': 'PT5H11M', 'segments': [{'departure': {'iataCode': 'ONT', 'terminal': '2', 'at': '2024-10-15T23:49:00'}, 'arrival': {'iataCode': 'JFK', 'terminal': '5', 'at': '2024-10-16T08:00:00'}, 'carrierCode': 'B6', 'number': '1654', 'aircraft': {'code': '321'}, 'operating': {'carrierCode': 'B6'}, 'duration': 'PT5H11M', 'id': '11', 'numberOfStops': 0, 'blacklistedInEU': False}]}], 'price': {'currency': 'EUR', 'total': '121.20', 'base': '100.00', 'fees': [{'amount': '0.00', 'type': 'SUPPLIER'}, {'amount': '0.00', 'type': 'TICKETING'}], 'grandTotal': '121.20'}, 'pricingOptions': {'fareType': ['PUBLISHED'], 'includedCheckedBagsOnly': False}, 'validatingAirlineCodes': ['B6'], 'travelerPricings': [{'travelerId': '1', 'fareOption': 'STANDARD', 'travelerType': 'ADULT', 'price': {'currency': 'EUR', 'total': '121.20', 'base': '100.00'}, 'fareDetailsBySegment': [{'segmentId': '11', 'cabin': 'ECONOMY', 'fareBasis': 'PI4QUEL1', 'brandedFare': 'DN', 'brandedFareLabel': 'BLUE BASIC', 'class': 'L', 'includedCheckedBags': {'quantity': 0}, 'amenities': [{'description': 'CHECKED BAG FIRST', 'isChargeable': True, 'amenityType': 'BAGGAGE', 'amenityProvider': {'name': 'BrandedFare'}}, {'description': 'CHECKED BAG SECOND', 'isChargeable': True, 'amenityType': 'BAGGAGE', 'amenityProvider': {'name': 'BrandedFare'}}, {'description': 'EXTRA LEGROOM', 'isChargeable': True, 'amenityType': 'PRE_RESERVED_SEAT', 'amenityProvider': {'name': 'BrandedFare'}}, {'description': 'ADVANCE SEAT SELECTION', 'isChargeable': True, 'amenityType': 'PRE_RESERVED_SEAT', 'amenityProvider': {'name': 'BrandedFare'}}, {'description': 'SNACK', 'isChargeable': False, 'amenityType': 'MEAL', 'amenityProvider': {'name': 'BrandedFare'}}, {'description': 'ALCOHOLIC DRINK', 'isChargeable': True, 'amenityType': 'MEAL', 'amenityProvider': {'name': 'BrandedFare'}}, {'description': 'NON ALCOHOLIC DRINK', 'isChargeable': False, 'amenityType': 'MEAL', 'amenityProvider': {'name': 'BrandedFare'}}]}]}]}, {'type': 'flight-offer', 'id': '2', 'source': 'GDS', 'instantTicketingRequired': False, 'nonHomogeneous': False, 'oneWay': False, 'isUpsellOffer': False, 'lastTicketingDate': '2024-09-21', 'lastTicketingDateTime': '2024-09-21', 'numberOfBookableSeats': 7, 'itineraries': [{'duration': 'PT5H30M', 'segments': [{'departure': {'iataCode': 'LAX', 'terminal': '5', 'at': '2024-10-15T10:40:00'}, 'arrival': {'iataCode': 'JFK', 'terminal': '5', 'at': '2024-10-15T19:10:00'}, 'carrierCode': 'B6', 'number': '424', 'aircraft': {'code': '32S'}, 'operating': {'carrierCode': 'B6'}, 'duration': 'PT5H30M', 'id': '31', 'numberOfStops': 0, 'blacklistedInEU': False}]}], 'price': {'currency': 'EUR', 'total': '121.20', 'base': '100.00', 'fees': [{'amount': '0.00', 'type': 'SUPPLIER'}, {'amount': '0.00', 'type': 'TICKETING'}], 'grandTotal': '121.20'}, 'pricingOptions': {'fareType': ['PUBLISHED'], 'includedCheckedBagsOnly': False}, 'validatingAirlineCodes': ['B6'], 'travelerPricings': [{'travelerId': '1', 'fareOption': 'STANDARD', 'travelerType': 'ADULT', 'price': {'currency': 'EUR', 'total': '121.20', 'base': '100.00'}, 'fareDetailsBySegment': [{'segmentId': '31', 'cabin': 'ECONOMY', 'fareBasis': 'PI4QUEL1', 'brandedFare': 'DN', 'brandedFareLabel': 'BLUE BASIC', 'class': 'L', 'includedCheckedBags': {'quantity': 0}, 'amenities': [{'description': 'CHECKED BAG FIRST', 'isChargeable': True, 'amenityType': 'BAGGAGE', 'amenityProvider': {'name': 'BrandedFare'}}, {'description': 'CHECKED BAG SECOND', 'isChargeable': True, 'amenityType': 'BAGGAGE', 'amenityProvider': {'name': 'BrandedFare'}}, {'description': 'EXTRA LEGROOM', 'isChargeable': True, 'amenityType': 'PRE_RESERVED_SEAT', 'amenityProvider': {'name': 'BrandedFare'}}, {'description': 'ADVANCE SEAT SELECTION', 'isChargeable': True, 'amenityType': 'PRE_RESERVED_SEAT', 'amenityProvider': {'name': 'BrandedFare'}}, {'description': 'SNACK', 'isChargeable': False, 'amenityType': 'MEAL', 'amenityProvider': {'name': 'BrandedFare'}}, {'description': 'ALCOHOLIC DRINK', 'isChargeable': True, 'amenityType': 'MEAL', 'amenityProvider': {'name': 'BrandedFare'}}, {'description': 'NON ALCOHOLIC DRINK', 'isChargeable': False, 'amenityType': 'MEAL', 'amenityProvider': {'name': 'BrandedFare'}}]}]}]}, {'type': 'flight-offer', 'id': '3', 'source': 'GDS', 'instantTicketingRequired': False, 'nonHomogeneous': False, 'oneWay': False, 'isUpsellOffer': False, 'lastTicketingDate': '2024-09-21', 'lastTicketingDateTime': '2024-09-21', 'numberOfBookableSeats': 7, 'itineraries': [{'duration': 'PT9H30M', 'segments': [{'departure': {'iataCode': 'LAX', 'terminal': '6', 'at': '2024-10-15T17:30:00'}, 'arrival': {'iataCode': 'SEA', 'at': '2024-10-15T20:25:00'}, 'carrierCode': 'AS', 'number': '1301', 'aircraft': {'code': '73J'}, 'operating': {'carrierCode': 'AS'}, 'duration': 'PT2H55M', 'id': '33', 'numberOfStops': 0, 'blacklistedInEU': False}, {'departure': {'iataCode': 'SEA', 'at': '2024-10-15T21:50:00'}, 'arrival': {'iataCode': 'JFK', 'terminal': '7', 'at': '2024-10-16T06:00:00'}, 'carrierCode': 'AS', 'number': '22', 'aircraft': {'code': '73J'}, 'operating': {'carrierCode': 'AS'}, 'duration': 'PT5H10M', 'id': '34', 'numberOfStops': 0, 'blacklistedInEU': False}]}], 'price': {'currency': 'EUR', 'total': '129.82', 'base': '100.00', 'fees': [{'amount': '0.00', 'type': 'SUPPLIER'}, {'amount': '0.00', 'type': 'TICKETING'}], 'grandTotal': '129.82'}, 'pricingOptions': {'fareType': ['PUBLISHED'], 'includedCheckedBagsOnly': False}, 'validatingAirlineCodes': ['AS'], 'travelerPricings': [{'travelerId': '1', 'fareOption': 'STANDARD', 'travelerType': 'ADULT', 'price': {'currency': 'EUR', 'total': '129.82', 'base': '100.00'}, 'fareDetailsBySegment': [{'segmentId': '33', 'cabin': 'ECONOMY', 'fareBasis': 'OH4OAJBN', 'brandedFare': 'SV', 'brandedFareLabel': 'SAVER', 'class': 'X', 'includedCheckedBags': {'quantity': 0}, 'amenities': [{'description': 'STANDARD PIECE MAX 50LB 62LI', 'isChargeable': True, 'amenityType': 'BAGGAGE', 'amenityProvider': {'name': 'BrandedFare'}}, {'description': 'MEAL 1', 'isChargeable': True, 'amenityType': 'MEAL', 'amenityProvider': {'name': 'BrandedFare'}}, {'description': '110V AC POWER', 'isChargeable': False, 'amenityType': 'ENTERTAINMENT', 'amenityProvider': {'name': 'BrandedFare'}}, {'description': 'USB POWER', 'isChargeable': False, 'amenityType': 'ENTERTAINMENT', 'amenityProvider': {'name': 'BrandedFare'}}]}, {'segmentId': '34', 'cabin': 'ECONOMY', 'fareBasis': 'OH4OAJBN', 'brandedFare': 'SV', 'brandedFareLabel': 'SAVER', 'class': 'X', 'includedCheckedBags': {'quantity': 0}, 'amenities': [{'description': 'STANDARD PIECE MAX 50LB 62LI', 'isChargeable': True, 'amenityType': 'BAGGAGE', 'amenityProvider': {'name': 'BrandedFare'}}, {'description': 'MEAL 1', 'isChargeable': True, 'amenityType': 'MEAL', 'amenityProvider': {'name': 'BrandedFare'}}, {'description': '110V AC POWER', 'isChargeable': False, 'amenityType': 'ENTERTAINMENT', 'amenityProvider': {'name': 'BrandedFare'}}, {'description': 'USB POWER', 'isChargeable': False, 'amenityType': 'ENTERTAINMENT', 'amenityProvider': {'name': 'BrandedFare'}}]}]}]}, {'type': 'flight-offer', 'id': '4', 'source': 'GDS', 'instantTicketingRequired': False, 'nonHomogeneous': False, 'oneWay': False, 'isUpsellOffer': False, 'lastTicketingDate': '2024-09-21', 'lastTicketingDateTime': '2024-09-21', 'numberOfBookableSeats': 7, 'itineraries': [{'duration': 'PT11H45M', 'segments': [{'departure': {'iataCode': 'LAX', 'terminal': '6', 'at': '2024-10-15T15:15:00'}, 'arrival': {'iataCode': 'SEA', 'at': '2024-10-15T18:11:00'}, 'carrierCode': 'AS', 'number': '1147', 'aircraft': {'code': '73J'}, 'operating': {'carrierCode': 'AS'}, 'duration': 'PT2H56M', 'id': '44', 'numberOfStops': 0, 'blacklistedInEU': False}, {'departure': {'iataCode': 'SEA', 'at': '2024-10-15T21:50:00'}, 'arrival': {'iataCode': 'JFK', 'terminal': '7', 'at': '2024-10-16T06:00:00'}, 'carrierCode': 'AS', 'number': '22', 'aircraft': {'code': '73J'}, 'operating': {'carrierCode': 'AS'}, 'duration': 'PT5H10M', 'id': '45', 'numberOfStops': 0, 'blacklistedInEU': False}]}], 'price': {'currency': 'EUR', 'total': '129.82', 'base': '100.00', 'fees': [{'amount': '0.00', 'type': 'SUPPLIER'}, {'amount': '0.00', 'type': 'TICKETING'}], 'grandTotal': '129.82'}, 'pricingOptions': {'fareType': ['PUBLISHED'], 'includedCheckedBagsOnly': False}, 'validatingAirlineCodes': ['AS'], 'travelerPricings': [{'travelerId': '1', 'fareOption': 'STANDARD', 'travelerType': 'ADULT', 'price': {'currency': 'EUR', 'total': '129.82', 'base': '100.00'}, 'fareDetailsBySegment': [{'segmentId': '44', 'cabin': 'ECONOMY', 'fareBasis': 'OH4OAJBN', 'brandedFare': 'SV', 'brandedFareLabel': 'SAVER', 'class': 'X', 'includedCheckedBags': {'quantity': 0}, 'amenities': [{'description': 'STANDARD PIECE MAX 50LB 62LI', 'isChargeable': True, 'amenityType': 'BAGGAGE', 'amenityProvider': {'name': 'BrandedFare'}}, {'description': 'MEAL 1', 'isChargeable': True, 'amenityType': 'MEAL', 'amenityProvider': {'name': 'BrandedFare'}}, {'description': '110V AC POWER', 'isChargeable': False, 'amenityType': 'ENTERTAINMENT', 'amenityProvider': {'name': 'BrandedFare'}}, {'description': 'USB POWER', 'isChargeable': False, 'amenityType': 'ENTERTAINMENT', 'amenityProvider': {'name': 'BrandedFare'}}]}, {'segmentId': '45', 'cabin': 'ECONOMY', 'fareBasis': 'OH4OAJBN', 'brandedFare': 'SV', 'brandedFareLabel': 'SAVER', 'class': 'X', 'includedCheckedBags': {'quantity': 0}, 'amenities': [{'description': 'STANDARD PIECE MAX 50LB 62LI', 'isChargeable': True, 'amenityType': 'BAGGAGE', 'amenityProvider': {'name': 'BrandedFare'}}, {'description': 'MEAL 1', 'isChargeable': True, 'amenityType': 'MEAL', 'amenityProvider': {'name': 'BrandedFare'}}, {'description': '110V AC POWER', 'isChargeable': False, 'amenityType': 'ENTERTAINMENT', 'amenityProvider': {'name': 'BrandedFare'}}, {'description': 'USB POWER', 'isChargeable': False, 'amenityType': 'ENTERTAINMENT', 'amenityProvider': {'name': 'BrandedFare'}}]}]}]}, {'type': 'flight-offer', 'id': '5', 'source': 'GDS', 'instantTicketingRequired': False, 'nonHomogeneous': False, 'oneWay': False, 'isUpsellOffer': False, 'lastTicketingDate': '2024-09-21', 'lastTicketingDateTime': '2024-09-21', 'numberOfBookableSeats': 9, 'itineraries': [{'duration': 'PT5H20M', 'segments': [{'departure': {'iataCode': 'LAX', 'terminal': '5', 'at': '2024-10-15T20:40:00'}, 'arrival': {'iataCode': 'JFK', 'terminal': '5', 'at': '2024-10-16T05:00:00'}, 'carrierCode': 'B6', 'number': '2924', 'aircraft': {'code': '32S'}, 'operating': {'carrierCode': 'B6'}, 'duration': 'PT5H20M', 'id': '16', 'numberOfStops': 0, 'blacklistedInEU': False}]}], 'price': {'currency': 'EUR', 'total': '135.18', 'base': '113.00', 'fees': [{'amount': '0.00', 'type': 'SUPPLIER'}, {'amount': '0.00', 'type': 'TICKETING'}], 'grandTotal': '135.18'}, 'pricingOptions': {'fareType': ['PUBLISHED'], 'includedCheckedBagsOnly': False}, 'validatingAirlineCodes': ['B6'], 'travelerPricings': [{'travelerId': '1', 'fareOption': 'STANDARD', 'travelerType': 'ADULT', 'price': {'currency': 'EUR', 'total': '135.18', 'base': '113.00'}, 'fareDetailsBySegment': [{'segmentId': '16', 'cabin': 'ECONOMY', 'fareBasis': 'SI4QUEL1', 'brandedFare': 'DN', 'brandedFareLabel': 'BLUE BASIC', 'class': 'L', 'includedCheckedBags': {'quantity': 0}, 'amenities': [{'description': 'CHECKED BAG FIRST', 'isChargeable': True, 'amenityType': 'BAGGAGE', 'amenityProvider': {'name': 'BrandedFare'}}, {'description': 'CHECKED BAG SECOND', 'isChargeable': True, 'amenityType': 'BAGGAGE', 'amenityProvider': {'name': 'BrandedFare'}}, {'description': 'EXTRA LEGROOM', 'isChargeable': True, 'amenityType': 'PRE_RESERVED_SEAT', 'amenityProvider': {'name': 'BrandedFare'}}, {'description': 'ADVANCE SEAT SELECTION', 'isChargeable': True, 'amenityType': 'PRE_RESERVED_SEAT', 'amenityProvider': {'name': 'BrandedFare'}}, {'description': 'SNACK', 'isChargeable': False, 'amenityType': 'MEAL', 'amenityProvider': {'name': 'BrandedFare'}}, {'description': 'ALCOHOLIC DRINK', 'isChargeable': True, 'amenityType': 'MEAL', 'amenityProvider': {'name': 'BrandedFare'}}, {'description': 'NON ALCOHOLIC DRINK', 'isChargeable': False, 'amenityType': 'MEAL', 'amenityProvider': {'name': 'BrandedFare'}}]}]}]}, {'type': 'flight-offer', 'id': '6', 'source': 'GDS', 'instantTicketingRequired': False, 'nonHomogeneous': False, 'oneWay': False, 'isUpsellOffer': False, 'lastTicketingDate': '2024-09-21', 'lastTicketingDateTime': '2024-09-21', 'numberOfBookableSeats': 7, 'itineraries': [{'duration': 'PT5H23M', 'segments': [{'departure': {'iataCode': 'LAX', 'terminal': '5', 'at': '2024-10-15T07:37:00'}, 'arrival': {'iataCode': 'JFK', 'terminal': '5', 'at': '2024-10-15T16:00:00'}, 'carrierCode': 'B6', 'number': '1316', 'aircraft': {'code': '32S'}, 'operating': {'carrierCode': 'B6'}, 'duration': 'PT5H23M', 'id': '17', 'numberOfStops': 0, 'blacklistedInEU': False}]}], 'price': {'currency': 'EUR', 'total': '139.48', 'base': '117.00', 'fees': [{'amount': '0.00', 'type': 'SUPPLIER'}, {'amount': '0.00', 'type': 'TICKETING'}], 'grandTotal': '139.48'}, 'pricingOptions': {'fareType': ['PUBLISHED'], 'includedCheckedBagsOnly': False}, 'validatingAirlineCodes': ['B6'], 'travelerPricings': [{'travelerId': '1', 'fareOption': 'STANDARD', 'travelerType': 'ADULT', 'price': {'currency': 'EUR', 'total': '139.48', 'base': '117.00'}, 'fareDetailsBySegment': [{'segmentId': '17', 'cabin': 'ECONOMY', 'fareBasis': 'UI2AUZL1', 'brandedFare': 'DN', 'brandedFareLabel': 'BLUE BASIC', 'class': 'L', 'includedCheckedBags': {'quantity': 0}, 'amenities': [{'description': 'CHECKED BAG FIRST', 'isChargeable': True, 'amenityType': 'BAGGAGE', 'amenityProvider': {'name': 'BrandedFare'}}, {'description': 'CHECKED BAG SECOND', 'isChargeable': True, 'amenityType': 'BAGGAGE', 'amenityProvider': {'name': 'BrandedFare'}}, {'description': 'EXTRA LEGROOM', 'isChargeable': True, 'amenityType': 'PRE_RESERVED_SEAT', 'amenityProvider': {'name': 'BrandedFare'}}, {'description': 'ADVANCE SEAT SELECTION', 'isChargeable': True, 'amenityType': 'PRE_RESERVED_SEAT', 'amenityProvider': {'name': 'BrandedFare'}}, {'description': 'SNACK', 'isChargeable': False, 'amenityType': 'MEAL', 'amenityProvider': {'name': 'BrandedFare'}}, {'description': 'ALCOHOLIC DRINK', 'isChargeable': True, 'amenityType': 'MEAL', 'amenityProvider': {'name': 'BrandedFare'}}, {'description': 'NON ALCOHOLIC DRINK', 'isChargeable': False, 'amenityType': 'MEAL', 'amenityProvider': {'name': 'BrandedFare'}}]}]}]}, {'type': 'flight-offer', 'id': '7', 'source': 'GDS', 'instantTicketingRequired': False, 'nonHomogeneous': False, 'oneWay': False, 'isUpsellOffer': False, 'lastTicketingDate': '2024-09-21', 'lastTicketingDateTime': '2024-09-21', 'numberOfBookableSeats': 7, 'itineraries': [{'duration': 'PT5H24M', 'segments': [{'departure': {'iataCode': 'LAX', 'terminal': '5', 'at': '2024-10-15T14:25:00'}, 'arrival': {'iataCode': 'JFK', 'terminal': '5', 'at': '2024-10-15T22:49:00'}, 'carrierCode': 'B6', 'number': '1524', 'aircraft': {'code': '32S'}, 'operating': {'carrierCode': 'B6'}, 'duration': 'PT5H24M', 'id': '18', 'numberOfStops': 0, 'blacklistedInEU': False}]}], 'price': {'currency': 'EUR', 'total': '139.48', 'base': '117.00', 'fees': [{'amount': '0.00', 'type': 'SUPPLIER'}, {'amount': '0.00', 'type': 'TICKETING'}], 'grandTotal': '139.48'}, 'pricingOptions': {'fareType': ['PUBLISHED'], 'includedCheckedBagsOnly': False}, 'validatingAirlineCodes': ['B6'], 'travelerPricings': [{'travelerId': '1', 'fareOption': 'STANDARD', 'travelerType': 'ADULT', 'price': {'currency': 'EUR', 'total': '139.48', 'base': '117.00'}, 'fareDetailsBySegment': [{'segmentId': '18', 'cabin': 'ECONOMY', 'fareBasis': 'UI2AUZL1', 'brandedFare': 'DN', 'brandedFareLabel': 'BLUE BASIC', 'class': 'L', 'includedCheckedBags': {'quantity': 0}, 'amenities': [{'description': 'CHECKED BAG FIRST', 'isChargeable': True, 'amenityType': 'BAGGAGE', 'amenityProvider': {'name': 'BrandedFare'}}, {'description': 'CHECKED BAG SECOND', 'isChargeable': True, 'amenityType': 'BAGGAGE', 'amenityProvider': {'name': 'BrandedFare'}}, {'description': 'EXTRA LEGROOM', 'isChargeable': True, 'amenityType': 'PRE_RESERVED_SEAT', 'amenityProvider': {'name': 'BrandedFare'}}, {'description': 'ADVANCE SEAT SELECTION', 'isChargeable': True, 'amenityType': 'PRE_RESERVED_SEAT', 'amenityProvider': {'name': 'BrandedFare'}}, {'description': 'SNACK', 'isChargeable': False, 'amenityType': 'MEAL', 'amenityProvider': {'name': 'BrandedFare'}}, {'description': 'ALCOHOLIC DRINK', 'isChargeable': True, 'amenityType': 'MEAL', 'amenityProvider': {'name': 'BrandedFare'}}, {'description': 'NON ALCOHOLIC DRINK', 'isChargeable': False, 'amenityType': 'MEAL', 'amenityProvider': {'name': 'BrandedFare'}}]}]}]}, {'type': 'flight-offer', 'id': '8', 'source': 'GDS', 'instantTicketingRequired': False, 'nonHomogeneous': False, 'oneWay': False, 'isUpsellOffer': False, 'lastTicketingDate': '2024-09-21', 'lastTicketingDateTime': '2024-09-21', 'numberOfBookableSeats': 7, 'itineraries': [{'duration': 'PT5H26M', 'segments': [{'departure': {'iataCode': 'LAX', 'terminal': '5', 'at': '2024-10-15T22:45:00'}, 'arrival': {'iataCode': 'JFK', 'terminal': '5', 'at': '2024-10-16T07:11:00'}, 'carrierCode': 'B6', 'number': '1124', 'aircraft': {'code': '32S'}, 'operating': {'carrierCode': 'B6'}, 'duration': 'PT5H26M', 'id': '21', 'numberOfStops': 0, 'blacklistedInEU': False}]}], 'price': {'currency': 'EUR', 'total': '139.48', 'base': '117.00', 'fees': [{'amount': '0.00', 'type': 'SUPPLIER'}, {'amount': '0.00', 'type': 'TICKETING'}], 'grandTotal': '139.48'}, 'pricingOptions': {'fareType': ['PUBLISHED'], 'includedCheckedBagsOnly': False}, 'validatingAirlineCodes': ['B6'], 'travelerPricings': [{'travelerId': '1', 'fareOption': 'STANDARD', 'travelerType': 'ADULT', 'price': {'currency': 'EUR', 'total': '139.48', 'base': '117.00'}, 'fareDetailsBySegment': [{'segmentId': '21', 'cabin': 'ECONOMY', 'fareBasis': 'UI2AUZL1', 'brandedFare': 'DN', 'brandedFareLabel': 'BLUE BASIC', 'class': 'L', 'includedCheckedBags': {'quantity': 0}, 'amenities': [{'description': 'CHECKED BAG FIRST', 'isChargeable': True, 'amenityType': 'BAGGAGE', 'amenityProvider': {'name': 'BrandedFare'}}, {'description': 'CHECKED BAG SECOND', 'isChargeable': True, 'amenityType': 'BAGGAGE', 'amenityProvider': {'name': 'BrandedFare'}}, {'description': 'EXTRA LEGROOM', 'isChargeable': True, 'amenityType': 'PRE_RESERVED_SEAT', 'amenityProvider': {'name': 'BrandedFare'}}, {'description': 'ADVANCE SEAT SELECTION', 'isChargeable': True, 'amenityType': 'PRE_RESERVED_SEAT', 'amenityProvider': {'name': 'BrandedFare'}}, {'description': 'SNACK', 'isChargeable': False, 'amenityType': 'MEAL', 'amenityProvider': {'name': 'BrandedFare'}}, {'description': 'ALCOHOLIC DRINK', 'isChargeable': True, 'amenityType': 'MEAL', 'amenityProvider': {'name': 'BrandedFare'}}, {'description': 'NON ALCOHOLIC DRINK', 'isChargeable': False, 'amenityType': 'MEAL', 'amenityProvider': {'name': 'BrandedFare'}}]}]}]}, {'type': 'flight-offer', 'id': '9', 'source': 'GDS', 'instantTicketingRequired': False, 'nonHomogeneous': False, 'oneWay': False, 'isUpsellOffer': False, 'lastTicketingDate': '2024-09-21', 'lastTicketingDateTime': '2024-09-21', 'numberOfBookableSeats': 7, 'itineraries': [{'duration': 'PT5H26M', 'segments': [{'departure': {'iataCode': 'LAX', 'terminal': '5', 'at': '2024-10-15T23:59:00'}, 'arrival': {'iataCode': 'JFK', 'terminal': '5', 'at': '2024-10-16T08:25:00'}, 'carrierCode': 'B6', 'number': '1114', 'aircraft': {'code': '32S'}, 'operating': {'carrierCode': 'B6'}, 'duration': 'PT5H26M', 'id': '22', 'numberOfStops': 0, 'blacklistedInEU': False}]}], 'price': {'currency': 'EUR', 'total': '139.48', 'base': '117.00', 'fees': [{'amount': '0.00', 'type': 'SUPPLIER'}, {'amount': '0.00', 'type': 'TICKETING'}], 'grandTotal': '139.48'}, 'pricingOptions': {'fareType': ['PUBLISHED'], 'includedCheckedBagsOnly': False}, 'validatingAirlineCodes': ['B6'], 'travelerPricings': [{'travelerId': '1', 'fareOption': 'STANDARD', 'travelerType': 'ADULT', 'price': {'currency': 'EUR', 'total': '139.48', 'base': '117.00'}, 'fareDetailsBySegment': [{'segmentId': '22', 'cabin': 'ECONOMY', 'fareBasis': 'UI2AUZL1', 'brandedFare': 'DN', 'brandedFareLabel': 'BLUE BASIC', 'class': 'L', 'includedCheckedBags': {'quantity': 0}, 'amenities': [{'description': 'CHECKED BAG FIRST', 'isChargeable': True, 'amenityType': 'BAGGAGE', 'amenityProvider': {'name': 'BrandedFare'}}, {'description': 'CHECKED BAG SECOND', 'isChargeable': True, 'amenityType': 'BAGGAGE', 'amenityProvider': {'name': 'BrandedFare'}}, {'description': 'EXTRA LEGROOM', 'isChargeable': True, 'amenityType': 'PRE_RESERVED_SEAT', 'amenityProvider': {'name': 'BrandedFare'}}, {'description': 'ADVANCE SEAT SELECTION', 'isChargeable': True, 'amenityType': 'PRE_RESERVED_SEAT', 'amenityProvider': {'name': 'BrandedFare'}}, {'description': 'SNACK', 'isChargeable': False, 'amenityType': 'MEAL', 'amenityProvider': {'name': 'BrandedFare'}}, {'description': 'ALCOHOLIC DRINK', 'isChargeable': True, 'amenityType': 'MEAL', 'amenityProvider': {'name': 'BrandedFare'}}, {'description': 'NON ALCOHOLIC DRINK', 'isChargeable': False, 'amenityType': 'MEAL', 'amenityProvider': {'name': 'BrandedFare'}}]}]}]}, {'type': 'flight-offer', 'id': '10', 'source': 'GDS', 'instantTicketingRequired': False, 'nonHomogeneous': False, 'oneWay': False, 'isUpsellOffer': False, 'lastTicketingDate': '2024-09-21', 'lastTicketingDateTime': '2024-09-21', 'numberOfBookableSeats': 7, 'itineraries': [{'duration': 'PT5H29M', 'segments': [{'departure': {'iataCode': 'LAX', 'terminal': '5', 'at': '2024-10-15T06:00:00'}, 'arrival': {'iataCode': 'JFK', 'terminal': '5', 'at': '2024-10-15T14:29:00'}, 'carrierCode': 'B6', 'number': '2824', 'aircraft': {'code': '32S'}, 'operating': {'carrierCode': 'B6'}, 'duration': 'PT5H29M', 'id': '27', 'numberOfStops': 0, 'blacklistedInEU': False}]}], 'price': {'currency': 'EUR', 'total': '139.48', 'base': '117.00', 'fees': [{'amount': '0.00', 'type': 'SUPPLIER'}, {'amount': '0.00', 'type': 'TICKETING'}], 'grandTotal': '139.48'}, 'pricingOptions': {'fareType': ['PUBLISHED'], 'includedCheckedBagsOnly': False}, 'validatingAirlineCodes': ['B6'], 'travelerPricings': [{'travelerId': '1', 'fareOption': 'STANDARD', 'travelerType': 'ADULT', 'price': {'currency': 'EUR', 'total': '139.48', 'base': '117.00'}, 'fareDetailsBySegment': [{'segmentId': '27', 'cabin': 'ECONOMY', 'fareBasis': 'UI2AUZL1', 'brandedFare': 'DN', 'brandedFareLabel': 'BLUE BASIC', 'class': 'L', 'includedCheckedBags': {'quantity': 0}, 'amenities': [{'description': 'CHECKED BAG FIRST', 'isChargeable': True, 'amenityType': 'BAGGAGE', 'amenityProvider': {'name': 'BrandedFare'}}, {'description': 'CHECKED BAG SECOND', 'isChargeable': True, 'amenityType': 'BAGGAGE', 'amenityProvider': {'name': 'BrandedFare'}}, {'description': 'EXTRA LEGROOM', 'isChargeable': True, 'amenityType': 'PRE_RESERVED_SEAT', 'amenityProvider': {'name': 'BrandedFare'}}, {'description': 'ADVANCE SEAT SELECTION', 'isChargeable': True, 'amenityType': 'PRE_RESERVED_SEAT', 'amenityProvider': {'name': 'BrandedFare'}}, {'description': 'SNACK', 'isChargeable': False, 'amenityType': 'MEAL', 'amenityProvider': {'name': 'BrandedFare'}}, {'description': 'ALCOHOLIC DRINK', 'isChargeable': True, 'amenityType': 'MEAL', 'amenityProvider': {'name': 'BrandedFare'}}, {'description': 'NON ALCOHOLIC DRINK', 'isChargeable': False, 'amenityType': 'MEAL', 'amenityProvider': {'name': 'BrandedFare'}}]}]}]}, {'type': 'flight-offer', 'id': '11', 'source': 'GDS', 'instantTicketingRequired': False, 'nonHomogeneous': False, 'oneWay': False, 'isUpsellOffer': False, 'lastTicketingDate': '2024-09-21', 'lastTicketingDateTime': '2024-09-21', 'numberOfBookableSeats': 7, 'itineraries': [{'duration': 'PT5H30M', 'segments': [{'departure': {'iataCode': 'LAX', 'terminal': '5', 'at': '2024-10-15T15:25:00'}, 'arrival': {'iataCode': 'JFK', 'terminal': '5', 'at': '2024-10-15T23:55:00'}, 'carrierCode': 'B6', 'number': '624', 'aircraft': {'code': '32S'}, 'operating': {'carrierCode': 'B6'}, 'duration': 'PT5H30M', 'id': '32', 'numberOfStops': 0, 'blacklistedInEU': False}]}], 'price': {'currency': 'EUR', 'total': '139.48', 'base': '117.00', 'fees': [{'amount': '0.00', 'type': 'SUPPLIER'}, {'amount': '0.00', 'type': 'TICKETING'}], 'grandTotal': '139.48'}, 'pricingOptions': {'fareType': ['PUBLISHED'], 'includedCheckedBagsOnly': False}, 'validatingAirlineCodes': ['B6'], 'travelerPricings': [{'travelerId': '1', 'fareOption': 'STANDARD', 'travelerType': 'ADULT', 'price': {'currency': 'EUR', 'total': '139.48', 'base': '117.00'}, 'fareDetailsBySegment': [{'segmentId': '32', 'cabin': 'ECONOMY', 'fareBasis': 'UI2AUZL1', 'brandedFare': 'DN', 'brandedFareLabel': 'BLUE BASIC', 'class': 'L', 'includedCheckedBags': {'quantity': 0}, 'amenities': [{'description': 'CHECKED BAG FIRST', 'isChargeable': True, 'amenityType': 'BAGGAGE', 'amenityProvider': {'name': 'BrandedFare'}}, {'description': 'CHECKED BAG SECOND', 'isChargeable': True, 'amenityType': 'BAGGAGE', 'amenityProvider': {'name': 'BrandedFare'}}, {'description': 'EXTRA LEGROOM', 'isChargeable': True, 'amenityType': 'PRE_RESERVED_SEAT', 'amenityProvider': {'name': 'BrandedFare'}}, {'description': 'ADVANCE SEAT SELECTION', 'isChargeable': True, 'amenityType': 'PRE_RESERVED_SEAT', 'amenityProvider': {'name': 'BrandedFare'}}, {'description': 'SNACK', 'isChargeable': False, 'amenityType': 'MEAL', 'amenityProvider': {'name': 'BrandedFare'}}, {'description': 'ALCOHOLIC DRINK', 'isChargeable': True, 'amenityType': 'MEAL', 'amenityProvider': {'name': 'BrandedFare'}}, {'description': 'NON ALCOHOLIC DRINK', 'isChargeable': False, 'amenityType': 'MEAL', 'amenityProvider': {'name': 'BrandedFare'}}]}]}]}, {'type': 'flight-offer', 'id': '12', 'source': 'GDS', 'instantTicketingRequired': False, 'nonHomogeneous': False, 'oneWay': False, 'isUpsellOffer': False, 'lastTicketingDate': '2024-09-21', 'lastTicketingDateTime': '2024-09-21', 'numberOfBookableSeats': 7, 'itineraries': [{'duration': 'PT5H31M', 'segments': [{'departure': {'iataCode': 'LAX', 'terminal': '5', 'at': '2024-10-15T13:15:00'}, 'arrival': {'iataCode': 'JFK', 'terminal': '5', 'at': '2024-10-15T21:46:00'}, 'carrierCode': 'B6', 'number': '524', 'aircraft': {'code': '32S'}, 'operating': {'carrierCode': 'B6'}, 'duration': 'PT5H31M', 'id': '35', 'numberOfStops': 0, 'blacklistedInEU': False}]}], 'price': {'currency': 'EUR', 'total': '139.48', 'base': '117.00', 'fees': [{'amount': '0.00', 'type': 'SUPPLIER'}, {'amount': '0.00', 'type': 'TICKETING'}], 'grandTotal': '139.48'}, 'pricingOptions': {'fareType': ['PUBLISHED'], 'includedCheckedBagsOnly': False}, 'validatingAirlineCodes': ['B6'], 'travelerPricings': [{'travelerId': '1', 'fareOption': 'STANDARD', 'travelerType': 'ADULT', 'price': {'currency': 'EUR', 'total': '139.48', 'base': '117.00'}, 'fareDetailsBySegment': [{'segmentId': '35', 'cabin': 'ECONOMY', 'fareBasis': 'UI2AUZL1', 'brandedFare': 'DN', 'brandedFareLabel': 'BLUE BASIC', 'class': 'L', 'includedCheckedBags': {'quantity': 0}, 'amenities': [{'description': 'CHECKED BAG FIRST', 'isChargeable': True, 'amenityType': 'BAGGAGE', 'amenityProvider': {'name': 'BrandedFare'}}, {'description': 'CHECKED BAG SECOND', 'isChargeable': True, 'amenityType': 'BAGGAGE', 'amenityProvider': {'name': 'BrandedFare'}}, {'description': 'EXTRA LEGROOM', 'isChargeable': True, 'amenityType': 'PRE_RESERVED_SEAT', 'amenityProvider': {'name': 'BrandedFare'}}, {'description': 'ADVANCE SEAT SELECTION', 'isChargeable': True, 'amenityType': 'PRE_RESERVED_SEAT', 'amenityProvider': {'name': 'BrandedFare'}}, {'description': 'SNACK', 'isChargeable': False, 'amenityType': 'MEAL', 'amenityProvider': {'name': 'BrandedFare'}}, {'description': 'ALCOHOLIC DRINK', 'isChargeable': True, 'amenityType': 'MEAL', 'amenityProvider': {'name': 'BrandedFare'}}, {'description': 'NON ALCOHOLIC DRINK', 'isChargeable': False, 'amenityType': 'MEAL', 'amenityProvider': {'name': 'BrandedFare'}}]}]}]}, {'type': 'flight-offer', 'id': '13', 'source': 'GDS', 'instantTicketingRequired': False, 'nonHomogeneous': False, 'oneWay': False, 'isUpsellOffer': False, 'lastTicketingDate': '2024-09-21', 'lastTicketingDateTime': '2024-09-21', 'numberOfBookableSeats': 7, 'itineraries': [{'duration': 'PT5H32M', 'segments': [{'departure': {'iataCode': 'LAX', 'terminal': '5', 'at': '2024-10-15T09:40:00'}, 'arrival': {'iataCode': 'JFK', 'terminal': '5', 'at': '2024-10-15T18:12:00'}, 'carrierCode': 'B6', 'number': '324', 'aircraft': {'code': '32S'}, 'operating': {'carrierCode': 'B6'}, 'duration': 'PT5H32M', 'id': '36', 'numberOfStops': 0, 'blacklistedInEU': False}]}], 'price': {'currency': 'EUR', 'total': '139.48', 'base': '117.00', 'fees': [{'amount': '0.00', 'type': 'SUPPLIER'}, {'amount': '0.00', 'type': 'TICKETING'}], 'grandTotal': '139.48'}, 'pricingOptions': {'fareType': ['PUBLISHED'], 'includedCheckedBagsOnly': False}, 'validatingAirlineCodes': ['B6'], 'travelerPricings': [{'travelerId': '1', 'fareOption': 'STANDARD', 'travelerType': 'ADULT', 'price': {'currency': 'EUR', 'total': '139.48', 'base': '117.00'}, 'fareDetailsBySegment': [{'segmentId': '36', 'cabin': 'ECONOMY', 'fareBasis': 'UI2AUZL1', 'brandedFare': 'DN', 'brandedFareLabel': 'BLUE BASIC', 'class': 'L', 'includedCheckedBags': {'quantity': 0}, 'amenities': [{'description': 'CHECKED BAG FIRST', 'isChargeable': True, 'amenityType': 'BAGGAGE', 'amenityProvider': {'name': 'BrandedFare'}}, {'description': 'CHECKED BAG SECOND', 'isChargeable': True, 'amenityType': 'BAGGAGE', 'amenityProvider': {'name': 'BrandedFare'}}, {'description': 'EXTRA LEGROOM', 'isChargeable': True, 'amenityType': 'PRE_RESERVED_SEAT', 'amenityProvider': {'name': 'BrandedFare'}}, {'description': 'ADVANCE SEAT SELECTION', 'isChargeable': True, 'amenityType': 'PRE_RESERVED_SEAT', 'amenityProvider': {'name': 'BrandedFare'}}, {'description': 'SNACK', 'isChargeable': False, 'amenityType': 'MEAL', 'amenityProvider': {'name': 'BrandedFare'}}, {'description': 'ALCOHOLIC DRINK', 'isChargeable': True, 'amenityType': 'MEAL', 'amenityProvider': {'name': 'BrandedFare'}}, {'description': 'NON ALCOHOLIC DRINK', 'isChargeable': False, 'amenityType': 'MEAL', 'amenityProvider': {'name': 'BrandedFare'}}]}]}]}, {'type': 'flight-offer', 'id': '14', 'source': 'GDS', 'instantTicketingRequired': False, 'nonHomogeneous': False, 'oneWay': False, 'isUpsellOffer': False, 'lastTicketingDate': '2024-09-21', 'lastTicketingDateTime': '2024-09-21', 'numberOfBookableSeats': 4, 'itineraries': [{'duration': 'PT13H54M', 'segments': [{'departure': {'iataCode': 'LAX', 'terminal': '1', 'at': '2024-10-15T17:35:00'}, 'arrival': {'iataCode': 'MSP', 'terminal': '2', 'at': '2024-10-15T23:10:00'}, 'carrierCode': 'SY', 'number': '422', 'aircraft': {'code': '738'}, 'operating': {'carrierCode': 'SY'}, 'duration': 'PT3H35M', 'id': '50', 'numberOfStops': 0, 'blacklistedInEU': False}, {'departure': {'iataCode': 'MSP', 'terminal': '2', 'at': '2024-10-16T06:47:00'}, 'arrival': {'iataCode': 'JFK', 'terminal': '7', 'at': '2024-10-16T10:29:00'}, 'carrierCode': 'SY', 'number': '567', 'aircraft': {'code': '738'}, 'operating': {'carrierCode': 'SY'}, 'duration': 'PT2H42M', 'id': '51', 'numberOfStops': 0, 'blacklistedInEU': False}]}], 'price': {'currency': 'EUR', 'total': '167.15', 'base': '130.00', 'fees': [{'amount': '0.00', 'type': 'SUPPLIER'}, {'amount': '0.00', 'type': 'TICKETING'}], 'grandTotal': '167.15'}, 'pricingOptions': {'fareType': ['PUBLISHED'], 'includedCheckedBagsOnly': False}, 'validatingAirlineCodes': ['SY'], 'travelerPricings': [{'travelerId': '1', 'fareOption': 'STANDARD', 'travelerType': 'ADULT', 'price': {'currency': 'EUR', 'total': '167.15', 'base': '130.00'}, 'fareDetailsBySegment': [{'segmentId': '50', 'cabin': 'ECONOMY', 'fareBasis': 'W4DACAY', 'class': 'W', 'includedCheckedBags': {'quantity': 0}}, {'segmentId': '51', 'cabin': 'ECONOMY', 'fareBasis': 'V4RSCAY', 'class': 'V', 'includedCheckedBags': {'quantity': 0}}]}]}, {'type': 'flight-offer', 'id': '15', 'source': 'GDS', 'instantTicketingRequired': False, 'nonHomogeneous': False, 'oneWay': False, 'isUpsellOffer': False, 'lastTicketingDate': '2024-09-21', 'lastTicketingDateTime': '2024-09-21', 'numberOfBookableSeats': 4, 'itineraries': [{'duration': 'PT19H29M', 'segments': [{'departure': {'iataCode': 'LAX', 'terminal': '1', 'at': '2024-10-15T12:00:00'}, 'arrival': {'iataCode': 'MSP', 'terminal': '2', 'at': '2024-10-15T17:34:00'}, 'carrierCode': 'SY', 'number': '426', 'aircraft': {'code': '738'}, 'operating': {'carrierCode': 'SY'}, 'duration': 'PT3H34M', 'id': '28', 'numberOfStops': 0, 'blacklistedInEU': False}, {'departure': {'iataCode': 'MSP', 'terminal': '2', 'at': '2024-10-16T06:47:00'}, 'arrival': {'iataCode': 'JFK', 'terminal': '7', 'at': '2024-10-16T10:29:00'}, 'carrierCode': 'SY', 'number': '567', 'aircraft': {'code': '738'}, 'operating': {'carrierCode': 'SY'}, 'duration': 'PT2H42M', 'id': '29', 'numberOfStops': 0, 'blacklistedInEU': False}]}], 'price': {'currency': 'EUR', 'total': '167.15', 'base': '130.00', 'fees': [{'amount': '0.00', 'type': 'SUPPLIER'}, {'amount': '0.00', 'type': 'TICKETING'}], 'grandTotal': '167.15'}, 'pricingOptions': {'fareType': ['PUBLISHED'], 'includedCheckedBagsOnly': False}, 'validatingAirlineCodes': ['SY'], 'travelerPricings': [{'travelerId': '1', 'fareOption': 'STANDARD', 'travelerType': 'ADULT', 'price': {'currency': 'EUR', 'total': '167.15', 'base': '130.00'}, 'fareDetailsBySegment': [{'segmentId': '28', 'cabin': 'ECONOMY', 'fareBasis': 'W4DACAY', 'class': 'W', 'includedCheckedBags': {'quantity': 0}}, {'segmentId': '29', 'cabin': 'ECONOMY', 'fareBasis': 'V4RSCAY', 'class': 'V', 'includedCheckedBags': {'quantity': 0}}]}]}, {'type': 'flight-offer', 'id': '16', 'source': 'GDS', 'instantTicketingRequired': False, 'nonHomogeneous': False, 'oneWay': False, 'isUpsellOffer': False, 'lastTicketingDate': '2024-09-21', 'lastTicketingDateTime': '2024-09-21', 'numberOfBookableSeats': 7, 'itineraries': [{'duration': 'PT8H37M', 'segments': [{'departure': {'iataCode': 'LAX', 'terminal': '6', 'at': '2024-10-15T10:50:00'}, 'arrival': {'iataCode': 'PDX', 'at': '2024-10-15T13:12:00'}, 'carrierCode': 'AS', 'number': '1315', 'aircraft': {'code': '73J'}, 'operating': {'carrierCode': 'AS'}, 'duration': 'PT2H22M', 'id': '41', 'numberOfStops': 0, 'blacklistedInEU': False}, {'departure': {'iataCode': 'PDX', 'at': '2024-10-15T14:15:00'}, 'arrival': {'iataCode': 'JFK', 'terminal': '7', 'at': '2024-10-15T22:27:00'}, 'carrierCode': 'AS', 'number': '18', 'aircraft': {'code': '73J'}, 'operating': {'carrierCode': 'AS'}, 'duration': 'PT5H12M', 'id': '42', 'numberOfStops': 0, 'blacklistedInEU': False}]}], 'price': {'currency': 'EUR', 'total': '173.90', 'base': '141.00', 'fees': [{'amount': '0.00', 'type': 'SUPPLIER'}, {'amount': '0.00', 'type': 'TICKETING'}], 'grandTotal': '173.90'}, 'pricingOptions': {'fareType': ['PUBLISHED'], 'includedCheckedBagsOnly': False}, 'validatingAirlineCodes': ['AS'], 'travelerPricings': [{'travelerId': '1', 'fareOption': 'STANDARD', 'travelerType': 'ADULT', 'price': {'currency': 'EUR', 'total': '173.90', 'base': '141.00'}, 'fareDetailsBySegment': [{'segmentId': '41', 'cabin': 'ECONOMY', 'fareBasis': 'QH2OAJBN', 'brandedFare': 'SV', 'brandedFareLabel': 'SAVER', 'class': 'X', 'includedCheckedBags': {'quantity': 0}, 'amenities': [{'description': 'STANDARD PIECE MAX 50LB 62LI', 'isChargeable': True, 'amenityType': 'BAGGAGE', 'amenityProvider': {'name': 'BrandedFare'}}, {'description': 'MEAL 1', 'isChargeable': True, 'amenityType': 'MEAL', 'amenityProvider': {'name': 'BrandedFare'}}, {'description': '110V AC POWER', 'isChargeable': False, 'amenityType': 'ENTERTAINMENT', 'amenityProvider': {'name': 'BrandedFare'}}, {'description': 'USB POWER', 'isChargeable': False, 'amenityType': 'ENTERTAINMENT', 'amenityProvider': {'name': 'BrandedFare'}}]}, {'segmentId': '42', 'cabin': 'ECONOMY', 'fareBasis': 'QH2OAJBN', 'brandedFare': 'SV', 'brandedFareLabel': 'SAVER', 'class': 'X', 'includedCheckedBags': {'quantity': 0}, 'amenities': [{'description': 'STANDARD PIECE MAX 50LB 62LI', 'isChargeable': True, 'amenityType': 'BAGGAGE', 'amenityProvider': {'name': 'BrandedFare'}}, {'description': 'MEAL 1', 'isChargeable': True, 'amenityType': 'MEAL', 'amenityProvider': {'name': 'BrandedFare'}}, {'description': '110V AC POWER', 'isChargeable': False, 'amenityType': 'ENTERTAINMENT', 'amenityProvider': {'name': 'BrandedFare'}}, {'description': 'USB POWER', 'isChargeable': False, 'amenityType': 'ENTERTAINMENT', 'amenityProvider': {'name': 'BrandedFare'}}]}]}]}, {'type': 'flight-offer', 'id': '17', 'source': 'GDS', 'instantTicketingRequired': False, 'nonHomogeneous': False, 'oneWay': False, 'isUpsellOffer': False, 'lastTicketingDate': '2024-09-21', 'lastTicketingDateTime': '2024-09-21', 'numberOfBookableSeats': 7, 'itineraries': [{'duration': 'PT11H54M', 'segments': [{'departure': {'iataCode': 'LAX', 'terminal': '6', 'at': '2024-10-15T08:00:00'}, 'arrival': {'iataCode': 'SEA', 'at': '2024-10-15T11:00:00'}, 'carrierCode': 'AS', 'number': '1179', 'aircraft': {'code': '73J'}, 'operating': {'carrierCode': 'AS'}, 'duration': 'PT3H', 'id': '48', 'numberOfStops': 0, 'blacklistedInEU': False}, {'departure': {'iataCode': 'SEA', 'at': '2024-10-15T14:20:00'}, 'arrival': {'iataCode': 'JFK', 'terminal': '7', 'at': '2024-10-15T22:54:00'}, 'carrierCode': 'AS', 'number': '16', 'aircraft': {'code': '73J'}, 'operating': {'carrierCode': 'AS'}, 'duration': 'PT5H34M', 'id': '49', 'numberOfStops': 0, 'blacklistedInEU': False}]}], 'price': {'currency': 'EUR', 'total': '173.90', 'base': '141.00', 'fees': [{'amount': '0.00', 'type': 'SUPPLIER'}, {'amount': '0.00', 'type': 'TICKETING'}], 'grandTotal': '173.90'}, 'pricingOptions': {'fareType': ['PUBLISHED'], 'includedCheckedBagsOnly': False}, 'validatingAirlineCodes': ['AS'], 'travelerPricings': [{'travelerId': '1', 'fareOption': 'STANDARD', 'travelerType': 'ADULT', 'price': {'currency': 'EUR', 'total': '173.90', 'base': '141.00'}, 'fareDetailsBySegment': [{'segmentId': '48', 'cabin': 'ECONOMY', 'fareBasis': 'QH2OAJBN', 'brandedFare': 'SV', 'brandedFareLabel': 'SAVER', 'class': 'X', 'includedCheckedBags': {'quantity': 0}, 'amenities': [{'description': 'STANDARD PIECE MAX 50LB 62LI', 'isChargeable': True, 'amenityType': 'BAGGAGE', 'amenityProvider': {'name': 'BrandedFare'}}, {'description': 'MEAL 1', 'isChargeable': True, 'amenityType': 'MEAL', 'amenityProvider': {'name': 'BrandedFare'}}, {'description': '110V AC POWER', 'isChargeable': False, 'amenityType': 'ENTERTAINMENT', 'amenityProvider': {'name': 'BrandedFare'}}, {'description': 'USB POWER', 'isChargeable': False, 'amenityType': 'ENTERTAINMENT', 'amenityProvider': {'name': 'BrandedFare'}}]}, {'segmentId': '49', 'cabin': 'ECONOMY', 'fareBasis': 'QH2OAJBN', 'brandedFare': 'SV', 'brandedFareLabel': 'SAVER', 'class': 'X', 'includedCheckedBags': {'quantity': 0}, 'amenities': [{'description': 'STANDARD PIECE MAX 50LB 62LI', 'isChargeable': True, 'amenityType': 'BAGGAGE', 'amenityProvider': {'name': 'BrandedFare'}}, {'description': 'MEAL 1', 'isChargeable': True, 'amenityType': 'MEAL', 'amenityProvider': {'name': 'BrandedFare'}}, {'description': '110V AC POWER', 'isChargeable': False, 'amenityType': 'ENTERTAINMENT', 'amenityProvider': {'name': 'BrandedFare'}}, {'description': 'USB POWER', 'isChargeable': False, 'amenityType': 'ENTERTAINMENT', 'amenityProvider': {'name': 'BrandedFare'}}]}]}]}, {'type': 'flight-offer', 'id': '18', 'source': 'GDS', 'instantTicketingRequired': False, 'nonHomogeneous': False, 'oneWay': False, 'isUpsellOffer': False, 'lastTicketingDate': '2024-09-21', 'lastTicketingDateTime': '2024-09-21', 'numberOfBookableSeats': 3, 'itineraries': [{'duration': 'PT10H9M', 'segments': [{'departure': {'iataCode': 'LAX', 'terminal': '6', 'at': '2024-10-15T09:45:00'}, 'arrival': {'iataCode': 'SEA', 'at': '2024-10-15T12:43:00'}, 'carrierCode': 'AS', 'number': '1317', 'aircraft': {'code': '73J'}, 'operating': {'carrierCode': 'AS'}, 'duration': 'PT2H58M', 'id': '5', 'numberOfStops': 0, 'blacklistedInEU': False}, {'departure': {'iataCode': 'SEA', 'at': '2024-10-15T14:20:00'}, 'arrival': {'iataCode': 'JFK', 'terminal': '7', 'at': '2024-10-15T22:54:00'}, 'carrierCode': 'AS', 'number': '16', 'aircraft': {'code': '73J'}, 'operating': {'carrierCode': 'AS'}, 'duration': 'PT5H34M', 'id': '6', 'numberOfStops': 0, 'blacklistedInEU': False}]}], 'price': {'currency': 'EUR', 'total': '173.90', 'base': '141.00', 'fees': [{'amount': '0.00', 'type': 'SUPPLIER'}, {'amount': '0.00', 'type': 'TICKETING'}], 'grandTotal': '173.90'}, 'pricingOptions': {'fareType': ['PUBLISHED'], 'includedCheckedBagsOnly': False}, 'validatingAirlineCodes': ['AS'], 'travelerPricings': [{'travelerId': '1', 'fareOption': 'STANDARD', 'travelerType': 'ADULT', 'price': {'currency': 'EUR', 'total': '173.90', 'base': '141.00'}, 'fareDetailsBySegment': [{'segmentId': '5', 'cabin': 'ECONOMY', 'fareBasis': 'QH2OAJBN', 'brandedFare': 'SV', 'brandedFareLabel': 'SAVER', 'class': 'X', 'includedCheckedBags': {'quantity': 0}, 'amenities': [{'description': 'STANDARD PIECE MAX 50LB 62LI', 'isChargeable': True, 'amenityType': 'BAGGAGE', 'amenityProvider': {'name': 'BrandedFare'}}, {'description': 'MEAL 1', 'isChargeable': True, 'amenityType': 'MEAL', 'amenityProvider': {'name': 'BrandedFare'}}, {'description': '110V AC POWER', 'isChargeable': False, 'amenityType': 'ENTERTAINMENT', 'amenityProvider': {'name': 'BrandedFare'}}, {'description': 'USB POWER', 'isChargeable': False, 'amenityType': 'ENTERTAINMENT', 'amenityProvider': {'name': 'BrandedFare'}}]}, {'segmentId': '6', 'cabin': 'ECONOMY', 'fareBasis': 'QH2OAJBN', 'brandedFare': 'SV', 'brandedFareLabel': 'SAVER', 'class': 'X', 'includedCheckedBags': {'quantity': 0}, 'amenities': [{'description': 'STANDARD PIECE MAX 50LB 62LI', 'isChargeable': True, 'amenityType': 'BAGGAGE', 'amenityProvider': {'name': 'BrandedFare'}}, {'description': 'MEAL 1', 'isChargeable': True, 'amenityType': 'MEAL', 'amenityProvider': {'name': 'BrandedFare'}}, {'description': '110V AC POWER', 'isChargeable': False, 'amenityType': 'ENTERTAINMENT', 'amenityProvider': {'name': 'BrandedFare'}}, {'description': 'USB POWER', 'isChargeable': False, 'amenityType': 'ENTERTAINMENT', 'amenityProvider': {'name': 'BrandedFare'}}]}]}]}, {'type': 'flight-offer', 'id': '19', 'source': 'GDS', 'instantTicketingRequired': False, 'nonHomogeneous': False, 'oneWay': False, 'isUpsellOffer': False, 'lastTicketingDate': '2024-09-21', 'lastTicketingDateTime': '2024-09-21', 'numberOfBookableSeats': 7, 'itineraries': [{'duration': 'PT12H33M', 'segments': [{'departure': {'iataCode': 'LAX', 'terminal': '5', 'at': '2024-10-15T15:05:00'}, 'arrival': {'iataCode': 'BOS', 'terminal': 'C', 'at': '2024-10-15T23:39:00'}, 'carrierCode': 'B6', 'number': '888', 'aircraft': {'code': '32S'}, 'operating': {'carrierCode': 'B6'}, 'duration': 'PT5H34M', 'id': '37', 'numberOfStops': 0, 'blacklistedInEU': False}, {'departure': {'iataCode': 'BOS', 'terminal': 'C', 'at': '2024-10-16T05:30:00'}, 'arrival': {'iataCode': 'JFK', 'terminal': '5', 'at': '2024-10-16T06:38:00'}, 'carrierCode': 'B6', 'number': '917', 'aircraft': {'code': '320'}, 'operating': {'carrierCode': 'B6'}, 'duration': 'PT1H8M', 'id': '38', 'numberOfStops': 0, 'blacklistedInEU': False}]}], 'price': {'currency': 'EUR', 'total': '188.65', 'base': '150.00', 'fees': [{'amount': '0.00', 'type': 'SUPPLIER'}, {'amount': '0.00', 'type': 'TICKETING'}], 'grandTotal': '188.65'}, 'pricingOptions': {'fareType': ['PUBLISHED'], 'includedCheckedBagsOnly': False}, 'validatingAirlineCodes': ['B6'], 'travelerPricings': [{'travelerId': '1', 'fareOption': 'STANDARD', 'travelerType': 'ADULT', 'price': {'currency': 'EUR', 'total': '188.65', 'base': '150.00'}, 'fareDetailsBySegment': [{'segmentId': '37', 'cabin': 'ECONOMY', 'fareBasis': 'PI2QBOL1', 'brandedFare': 'DN', 'brandedFareLabel': 'BLUE BASIC', 'class': 'L', 'includedCheckedBags': {'quantity': 0}, 'amenities': [{'description': 'CHECKED BAG FIRST', 'isChargeable': True, 'amenityType': 'BAGGAGE', 'amenityProvider': {'name': 'BrandedFare'}}, {'description': 'CHECKED BAG SECOND', 'isChargeable': True, 'amenityType': 'BAGGAGE', 'amenityProvider': {'name': 'BrandedFare'}}, {'description': 'EXTRA LEGROOM', 'isChargeable': True, 'amenityType': 'PRE_RESERVED_SEAT', 'amenityProvider': {'name': 'BrandedFare'}}, {'description': 'ADVANCE SEAT SELECTION', 'isChargeable': True, 'amenityType': 'PRE_RESERVED_SEAT', 'amenityProvider': {'name': 'BrandedFare'}}, {'description': 'SNACK', 'isChargeable': False, 'amenityType': 'MEAL', 'amenityProvider': {'name': 'BrandedFare'}}, {'description': 'ALCOHOLIC DRINK', 'isChargeable': True, 'amenityType': 'MEAL', 'amenityProvider': {'name': 'BrandedFare'}}, {'description': 'NON ALCOHOLIC DRINK', 'isChargeable': False, 'amenityType': 'MEAL', 'amenityProvider': {'name': 'BrandedFare'}}]}, {'segmentId': '38', 'cabin': 'ECONOMY', 'fareBasis': 'OI4AUEL1', 'brandedFare': 'DN', 'brandedFareLabel': 'BLUE BASIC', 'class': 'L', 'includedCheckedBags': {'quantity': 0}, 'amenities': [{'description': 'CHECKED BAG FIRST', 'isChargeable': True, 'amenityType': 'BAGGAGE', 'amenityProvider': {'name': 'BrandedFare'}}, {'description': 'CHECKED BAG SECOND', 'isChargeable': True, 'amenityType': 'BAGGAGE', 'amenityProvider': {'name': 'BrandedFare'}}, {'description': 'EXTRA LEGROOM', 'isChargeable': True, 'amenityType': 'PRE_RESERVED_SEAT', 'amenityProvider': {'name': 'BrandedFare'}}, {'description': 'ADVANCE SEAT SELECTION', 'isChargeable': True, 'amenityType': 'PRE_RESERVED_SEAT', 'amenityProvider': {'name': 'BrandedFare'}}, {'description': 'SNACK', 'isChargeable': False, 'amenityType': 'MEAL', 'amenityProvider': {'name': 'BrandedFare'}}, {'description': 'ALCOHOLIC DRINK', 'isChargeable': True, 'amenityType': 'MEAL', 'amenityProvider': {'name': 'BrandedFare'}}, {'description': 'NON ALCOHOLIC DRINK', 'isChargeable': False, 'amenityType': 'MEAL', 'amenityProvider': {'name': 'BrandedFare'}}]}]}]}, {'type': 'flight-offer', 'id': '20', 'source': 'GDS', 'instantTicketingRequired': False, 'nonHomogeneous': False, 'oneWay': False, 'isUpsellOffer': False, 'lastTicketingDate': '2024-09-21', 'lastTicketingDateTime': '2024-09-21', 'numberOfBookableSeats': 7, 'itineraries': [{'duration': 'PT16H51M', 'segments': [{'departure': {'iataCode': 'LAX', 'terminal': '5', 'at': '2024-10-15T15:05:00'}, 'arrival': {'iataCode': 'BOS', 'terminal': 'C', 'at': '2024-10-15T23:39:00'}, 'carrierCode': 'B6', 'number': '888', 'aircraft': {'code': '32S'}, 'operating': {'carrierCode': 'B6'}, 'duration': 'PT5H34M', 'id': '46', 'numberOfStops': 0, 'blacklistedInEU': False}, {'departure': {'iataCode': 'BOS', 'terminal': 'C', 'at': '2024-10-16T09:40:00'}, 'arrival': {'iataCode': 'JFK', 'terminal': '5', 'at': '2024-10-16T10:56:00'}, 'carrierCode': 'B6', 'number': '2417', 'aircraft': {'code': 'E90'}, 'operating': {'carrierCode': 'B6'}, 'duration': 'PT1H16M', 'id': '47', 'numberOfStops': 0, 'blacklistedInEU': False}]}], 'price': {'currency': 'EUR', 'total': '188.65', 'base': '150.00', 'fees': [{'amount': '0.00', 'type': 'SUPPLIER'}, {'amount': '0.00', 'type': 'TICKETING'}], 'grandTotal': '188.65'}, 'pricingOptions': {'fareType': ['PUBLISHED'], 'includedCheckedBagsOnly': False}, 'validatingAirlineCodes': ['B6'], 'travelerPricings': [{'travelerId': '1', 'fareOption': 'STANDARD', 'travelerType': 'ADULT', 'price': {'currency': 'EUR', 'total': '188.65', 'base': '150.00'}, 'fareDetailsBySegment': [{'segmentId': '46', 'cabin': 'ECONOMY', 'fareBasis': 'PI2QBOL1', 'brandedFare': 'DN', 'brandedFareLabel': 'BLUE BASIC', 'class': 'L', 'includedCheckedBags': {'quantity': 0}, 'amenities': [{'description': 'CHECKED BAG FIRST', 'isChargeable': True, 'amenityType': 'BAGGAGE', 'amenityProvider': {'name': 'BrandedFare'}}, {'description': 'CHECKED BAG SECOND', 'isChargeable': True, 'amenityType': 'BAGGAGE', 'amenityProvider': {'name': 'BrandedFare'}}, {'description': 'EXTRA LEGROOM', 'isChargeable': True, 'amenityType': 'PRE_RESERVED_SEAT', 'amenityProvider': {'name': 'BrandedFare'}}, {'description': 'ADVANCE SEAT SELECTION', 'isChargeable': True, 'amenityType': 'PRE_RESERVED_SEAT', 'amenityProvider': {'name': 'BrandedFare'}}, {'description': 'SNACK', 'isChargeable': False, 'amenityType': 'MEAL', 'amenityProvider': {'name': 'BrandedFare'}}, {'description': 'ALCOHOLIC DRINK', 'isChargeable': True, 'amenityType': 'MEAL', 'amenityProvider': {'name': 'BrandedFare'}}, {'description': 'NON ALCOHOLIC DRINK', 'isChargeable': False, 'amenityType': 'MEAL', 'amenityProvider': {'name': 'BrandedFare'}}]}, {'segmentId': '47', 'cabin': 'ECONOMY', 'fareBasis': 'OI4AUEL1', 'brandedFare': 'DN', 'brandedFareLabel': 'BLUE BASIC', 'class': 'L', 'includedCheckedBags': {'quantity': 0}, 'amenities': [{'description': 'CHECKED BAG FIRST', 'isChargeable': True, 'amenityType': 'BAGGAGE', 'amenityProvider': {'name': 'BrandedFare'}}, {'description': 'CHECKED BAG SECOND', 'isChargeable': True, 'amenityType': 'BAGGAGE', 'amenityProvider': {'name': 'BrandedFare'}}, {'description': 'EXTRA LEGROOM', 'isChargeable': True, 'amenityType': 'PRE_RESERVED_SEAT', 'amenityProvider': {'name': 'BrandedFare'}}, {'description': 'ADVANCE SEAT SELECTION', 'isChargeable': True, 'amenityType': 'PRE_RESERVED_SEAT', 'amenityProvider': {'name': 'BrandedFare'}}, {'description': 'SNACK', 'isChargeable': False, 'amenityType': 'MEAL', 'amenityProvider': {'name': 'BrandedFare'}}, {'description': 'ALCOHOLIC DRINK', 'isChargeable': True, 'amenityType': 'MEAL', 'amenityProvider': {'name': 'BrandedFare'}}, {'description': 'NON ALCOHOLIC DRINK', 'isChargeable': False, 'amenityType': 'MEAL', 'amenityProvider': {'name': 'BrandedFare'}}]}]}]}, {'type': 'flight-offer', 'id': '21', 'source': 'GDS', 'instantTicketingRequired': False, 'nonHomogeneous': False, 'oneWay': False, 'isUpsellOffer': False, 'lastTicketingDate': '2024-09-21', 'lastTicketingDateTime': '2024-09-21', 'numberOfBookableSeats': 3, 'itineraries': [{'duration': 'PT13H27M', 'segments': [{'departure': {'iataCode': 'LAX', 'terminal': '6', 'at': '2024-10-15T06:00:00'}, 'arrival': {'iataCode': 'PDX', 'at': '2024-10-15T08:35:00'}, 'carrierCode': 'AS', 'number': '1124', 'aircraft': {'code': '73J'}, 'operating': {'carrierCode': 'AS'}, 'duration': 'PT2H35M', 'id': '25', 'numberOfStops': 0, 'blacklistedInEU': False}, {'departure': {'iataCode': 'PDX', 'at': '2024-10-15T14:15:00'}, 'arrival': {'iataCode': 'JFK', 'terminal': '7', 'at': '2024-10-15T22:27:00'}, 'carrierCode': 'AS', 'number': '18', 'aircraft': {'code': '73J'}, 'operating': {'carrierCode': 'AS'}, 'duration': 'PT5H12M', 'id': '26', 'numberOfStops': 0, 'blacklistedInEU': False}]}], 'price': {'currency': 'EUR', 'total': '205.85', 'base': '166.00', 'fees': [{'amount': '0.00', 'type': 'SUPPLIER'}, {'amount': '0.00', 'type': 'TICKETING'}], 'grandTotal': '205.85'}, 'pricingOptions': {'fareType': ['PUBLISHED'], 'includedCheckedBagsOnly': False}, 'validatingAirlineCodes': ['AS'], 'travelerPricings': [{'travelerId': '1', 'fareOption': 'STANDARD', 'travelerType': 'ADULT', 'price': {'currency': 'EUR', 'total': '205.85', 'base': '166.00'}, 'fareDetailsBySegment': [{'segmentId': '25', 'cabin': 'ECONOMY', 'fareBasis': 'GH2OXVBN', 'brandedFare': 'SV', 'brandedFareLabel': 'SAVER', 'class': 'X', 'includedCheckedBags': {'quantity': 0}, 'amenities': [{'description': 'STANDARD PIECE MAX 50LB 62LI', 'isChargeable': True, 'amenityType': 'BAGGAGE', 'amenityProvider': {'name': 'BrandedFare'}}, {'description': 'MEAL 1', 'isChargeable': True, 'amenityType': 'MEAL', 'amenityProvider': {'name': 'BrandedFare'}}, {'description': '110V AC POWER', 'isChargeable': False, 'amenityType': 'ENTERTAINMENT', 'amenityProvider': {'name': 'BrandedFare'}}, {'description': 'USB POWER', 'isChargeable': False, 'amenityType': 'ENTERTAINMENT', 'amenityProvider': {'name': 'BrandedFare'}}]}, {'segmentId': '26', 'cabin': 'ECONOMY', 'fareBasis': 'QH2OXVBN', 'brandedFare': 'SV', 'brandedFareLabel': 'SAVER', 'class': 'X', 'includedCheckedBags': {'quantity': 0}, 'amenities': [{'description': 'STANDARD PIECE MAX 50LB 62LI', 'isChargeable': True, 'amenityType': 'BAGGAGE', 'amenityProvider': {'name': 'BrandedFare'}}, {'description': 'MEAL 1', 'isChargeable': True, 'amenityType': 'MEAL', 'amenityProvider': {'name': 'BrandedFare'}}, {'description': '110V AC POWER', 'isChargeable': False, 'amenityType': 'ENTERTAINMENT', 'amenityProvider': {'name': 'BrandedFare'}}, {'description': 'USB POWER', 'isChargeable': False, 'amenityType': 'ENTERTAINMENT', 'amenityProvider': {'name': 'BrandedFare'}}]}]}]}, {'type': 'flight-offer', 'id': '22', 'source': 'GDS', 'instantTicketingRequired': False, 'nonHomogeneous': False, 'oneWay': False, 'isUpsellOffer': False, 'lastTicketingDate': '2024-09-21', 'lastTicketingDateTime': '2024-09-21', 'numberOfBookableSeats': 7, 'itineraries': [{'duration': 'PT8H26M', 'segments': [{'departure': {'iataCode': 'LAX', 'terminal': '5', 'at': '2024-10-15T23:59:00'}, 'arrival': {'iataCode': 'FLL', 'terminal': '3', 'at': '2024-10-16T07:54:00'}, 'carrierCode': 'B6', 'number': '700', 'aircraft': {'code': '32S'}, 'operating': {'carrierCode': 'B6'}, 'duration': 'PT4H55M', 'id': '23', 'numberOfStops': 0, 'blacklistedInEU': False}, {'departure': {'iataCode': 'FLL', 'terminal': '3', 'at': '2024-10-16T08:38:00'}, 'arrival': {'iataCode': 'JFK', 'terminal': '5', 'at': '2024-10-16T11:25:00'}, 'carrierCode': 'B6', 'number': '1902', 'aircraft': {'code': '321'}, 'operating': {'carrierCode': 'B6'}, 'duration': 'PT2H47M', 'id': '24', 'numberOfStops': 0, 'blacklistedInEU': False}]}], 'price': {'currency': 'EUR', 'total': '219.05', 'base': '183.00', 'fees': [{'amount': '0.00', 'type': 'SUPPLIER'}, {'amount': '0.00', 'type': 'TICKETING'}], 'grandTotal': '219.05'}, 'pricingOptions': {'fareType': ['PUBLISHED'], 'includedCheckedBagsOnly': False}, 'validatingAirlineCodes': ['B6'], 'travelerPricings': [{'travelerId': '1', 'fareOption': 'STANDARD', 'travelerType': 'ADULT', 'price': {'currency': 'EUR', 'total': '219.05', 'base': '183.00'}, 'fareDetailsBySegment': [{'segmentId': '23', 'cabin': 'ECONOMY', 'fareBasis': 'UI4AUEL1', 'brandedFare': 'DN', 'brandedFareLabel': 'BLUE BASIC', 'class': 'L', 'includedCheckedBags': {'quantity': 0}, 'amenities': [{'description': 'CHECKED BAG FIRST', 'isChargeable': True, 'amenityType': 'BAGGAGE', 'amenityProvider': {'name': 'BrandedFare'}}, {'description': 'CHECKED BAG SECOND', 'isChargeable': True, 'amenityType': 'BAGGAGE', 'amenityProvider': {'name': 'BrandedFare'}}, {'description': 'EXTRA LEGROOM', 'isChargeable': True, 'amenityType': 'PRE_RESERVED_SEAT', 'amenityProvider': {'name': 'BrandedFare'}}, {'description': 'ADVANCE SEAT SELECTION', 'isChargeable': True, 'amenityType': 'PRE_RESERVED_SEAT', 'amenityProvider': {'name': 'BrandedFare'}}, {'description': 'SNACK', 'isChargeable': False, 'amenityType': 'MEAL', 'amenityProvider': {'name': 'BrandedFare'}}, {'description': 'ALCOHOLIC DRINK', 'isChargeable': True, 'amenityType': 'MEAL', 'amenityProvider': {'name': 'BrandedFare'}}, {'description': 'NON ALCOHOLIC DRINK', 'isChargeable': False, 'amenityType': 'MEAL', 'amenityProvider': {'name': 'BrandedFare'}}]}, {'segmentId': '24', 'cabin': 'ECONOMY', 'fareBasis': 'OI4AUEL1', 'brandedFare': 'DN', 'brandedFareLabel': 'BLUE BASIC', 'class': 'L', 'includedCheckedBags': {'quantity': 0}, 'amenities': [{'description': 'CHECKED BAG FIRST', 'isChargeable': True, 'amenityType': 'BAGGAGE', 'amenityProvider': {'name': 'BrandedFare'}}, {'description': 'CHECKED BAG SECOND', 'isChargeable': True, 'amenityType': 'BAGGAGE', 'amenityProvider': {'name': 'BrandedFare'}}, {'description': 'EXTRA LEGROOM', 'isChargeable': True, 'amenityType': 'PRE_RESERVED_SEAT', 'amenityProvider': {'name': 'BrandedFare'}}, {'description': 'ADVANCE SEAT SELECTION', 'isChargeable': True, 'amenityType': 'PRE_RESERVED_SEAT', 'amenityProvider': {'name': 'BrandedFare'}}, {'description': 'SNACK', 'isChargeable': False, 'amenityType': 'MEAL', 'amenityProvider': {'name': 'BrandedFare'}}, {'description': 'ALCOHOLIC DRINK', 'isChargeable': True, 'amenityType': 'MEAL', 'amenityProvider': {'name': 'BrandedFare'}}, {'description': 'NON ALCOHOLIC DRINK', 'isChargeable': False, 'amenityType': 'MEAL', 'amenityProvider': {'name': 'BrandedFare'}}]}]}]}, {'type': 'flight-offer', 'id': '23', 'source': 'GDS', 'instantTicketingRequired': False, 'nonHomogeneous': False, 'oneWay': False, 'isUpsellOffer': False, 'lastTicketingDate': '2024-09-21', 'lastTicketingDateTime': '2024-09-21', 'numberOfBookableSeats': 7, 'itineraries': [{'duration': 'PT10H35M', 'segments': [{'departure': {'iataCode': 'LAX', 'terminal': '5', 'at': '2024-10-15T23:59:00'}, 'arrival': {'iataCode': 'FLL', 'terminal': '3', 'at': '2024-10-16T07:54:00'}, 'carrierCode': 'B6', 'number': '700', 'aircraft': {'code': '32S'}, 'operating': {'carrierCode': 'B6'}, 'duration': 'PT4H55M', 'id': '39', 'numberOfStops': 0, 'blacklistedInEU': False}, {'departure': {'iataCode': 'FLL', 'terminal': '3', 'at': '2024-10-16T10:40:00'}, 'arrival': {'iataCode': 'JFK', 'terminal': '5', 'at': '2024-10-16T13:34:00'}, 'carrierCode': 'B6', 'number': '602', 'aircraft': {'code': '321'}, 'operating': {'carrierCode': 'B6'}, 'duration': 'PT2H54M', 'id': '40', 'numberOfStops': 0, 'blacklistedInEU': False}]}], 'price': {'currency': 'EUR', 'total': '219.05', 'base': '183.00', 'fees': [{'amount': '0.00', 'type': 'SUPPLIER'}, {'amount': '0.00', 'type': 'TICKETING'}], 'grandTotal': '219.05'}, 'pricingOptions': {'fareType': ['PUBLISHED'], 'includedCheckedBagsOnly': False}, 'validatingAirlineCodes': ['B6'], 'travelerPricings': [{'travelerId': '1', 'fareOption': 'STANDARD', 'travelerType': 'ADULT', 'price': {'currency': 'EUR', 'total': '219.05', 'base': '183.00'}, 'fareDetailsBySegment': [{'segmentId': '39', 'cabin': 'ECONOMY', 'fareBasis': 'UI4AUEL1', 'brandedFare': 'DN', 'brandedFareLabel': 'BLUE BASIC', 'class': 'L', 'includedCheckedBags': {'quantity': 0}, 'amenities': [{'description': 'CHECKED BAG FIRST', 'isChargeable': True, 'amenityType': 'BAGGAGE', 'amenityProvider': {'name': 'BrandedFare'}}, {'description': 'CHECKED BAG SECOND', 'isChargeable': True, 'amenityType': 'BAGGAGE', 'amenityProvider': {'name': 'BrandedFare'}}, {'description': 'EXTRA LEGROOM', 'isChargeable': True, 'amenityType': 'PRE_RESERVED_SEAT', 'amenityProvider': {'name': 'BrandedFare'}}, {'description': 'ADVANCE SEAT SELECTION', 'isChargeable': True, 'amenityType': 'PRE_RESERVED_SEAT', 'amenityProvider': {'name': 'BrandedFare'}}, {'description': 'SNACK', 'isChargeable': False, 'amenityType': 'MEAL', 'amenityProvider': {'name': 'BrandedFare'}}, {'description': 'ALCOHOLIC DRINK', 'isChargeable': True, 'amenityType': 'MEAL', 'amenityProvider': {'name': 'BrandedFare'}}, {'description': 'NON ALCOHOLIC DRINK', 'isChargeable': False, 'amenityType': 'MEAL', 'amenityProvider': {'name': 'BrandedFare'}}]}, {'segmentId': '40', 'cabin': 'ECONOMY', 'fareBasis': 'OI4AUEL1', 'brandedFare': 'DN', 'brandedFareLabel': 'BLUE BASIC', 'class': 'L', 'includedCheckedBags': {'quantity': 0}, 'amenities': [{'description': 'CHECKED BAG FIRST', 'isChargeable': True, 'amenityType': 'BAGGAGE', 'amenityProvider': {'name': 'BrandedFare'}}, {'description': 'CHECKED BAG SECOND', 'isChargeable': True, 'amenityType': 'BAGGAGE', 'amenityProvider': {'name': 'BrandedFare'}}, {'description': 'EXTRA LEGROOM', 'isChargeable': True, 'amenityType': 'PRE_RESERVED_SEAT', 'amenityProvider': {'name': 'BrandedFare'}}, {'description': 'ADVANCE SEAT SELECTION', 'isChargeable': True, 'amenityType': 'PRE_RESERVED_SEAT', 'amenityProvider': {'name': 'BrandedFare'}}, {'description': 'SNACK', 'isChargeable': False, 'amenityType': 'MEAL', 'amenityProvider': {'name': 'BrandedFare'}}, {'description': 'ALCOHOLIC DRINK', 'isChargeable': True, 'amenityType': 'MEAL', 'amenityProvider': {'name': 'BrandedFare'}}, {'description': 'NON ALCOHOLIC DRINK', 'isChargeable': False, 'amenityType': 'MEAL', 'amenityProvider': {'name': 'BrandedFare'}}]}]}]}, {'type': 'flight-offer', 'id': '24', 'source': 'GDS', 'instantTicketingRequired': False, 'nonHomogeneous': False, 'oneWay': False, 'isUpsellOffer': False, 'lastTicketingDate': '2024-09-21', 'lastTicketingDateTime': '2024-09-21', 'numberOfBookableSeats': 7, 'itineraries': [{'duration': 'PT17H15M', 'segments': [{'departure': {'iataCode': 'LAX', 'terminal': '5', 'at': '2024-10-15T15:10:00'}, 'arrival': {'iataCode': 'FLL', 'terminal': '3', 'at': '2024-10-15T23:10:00'}, 'carrierCode': 'B6', 'number': '100', 'aircraft': {'code': '32S'}, 'operating': {'carrierCode': 'B6'}, 'duration': 'PT5H', 'id': '14', 'numberOfStops': 0, 'blacklistedInEU': False}, {'departure': {'iataCode': 'FLL', 'terminal': '3', 'at': '2024-10-16T08:38:00'}, 'arrival': {'iataCode': 'JFK', 'terminal': '5', 'at': '2024-10-16T11:25:00'}, 'carrierCode': 'B6', 'number': '1902', 'aircraft': {'code': '321'}, 'operating': {'carrierCode': 'B6'}, 'duration': 'PT2H47M', 'id': '15', 'numberOfStops': 0, 'blacklistedInEU': False}]}], 'price': {'currency': 'EUR', 'total': '224.13', 'base': '183.00', 'fees': [{'amount': '0.00', 'type': 'SUPPLIER'}, {'amount': '0.00', 'type': 'TICKETING'}], 'grandTotal': '224.13'}, 'pricingOptions': {'fareType': ['PUBLISHED'], 'includedCheckedBagsOnly': False}, 'validatingAirlineCodes': ['B6'], 'travelerPricings': [{'travelerId': '1', 'fareOption': 'STANDARD', 'travelerType': 'ADULT', 'price': {'currency': 'EUR', 'total': '224.13', 'base': '183.00'}, 'fareDetailsBySegment': [{'segmentId': '14', 'cabin': 'ECONOMY', 'fareBasis': 'UI4AUEL1', 'brandedFare': 'DN', 'brandedFareLabel': 'BLUE BASIC', 'class': 'L', 'includedCheckedBags': {'quantity': 0}, 'amenities': [{'description': 'CHECKED BAG FIRST', 'isChargeable': True, 'amenityType': 'BAGGAGE', 'amenityProvider': {'name': 'BrandedFare'}}, {'description': 'CHECKED BAG SECOND', 'isChargeable': True, 'amenityType': 'BAGGAGE', 'amenityProvider': {'name': 'BrandedFare'}}, {'description': 'EXTRA LEGROOM', 'isChargeable': True, 'amenityType': 'PRE_RESERVED_SEAT', 'amenityProvider': {'name': 'BrandedFare'}}, {'description': 'ADVANCE SEAT SELECTION', 'isChargeable': True, 'amenityType': 'PRE_RESERVED_SEAT', 'amenityProvider': {'name': 'BrandedFare'}}, {'description': 'SNACK', 'isChargeable': False, 'amenityType': 'MEAL', 'amenityProvider': {'name': 'BrandedFare'}}, {'description': 'ALCOHOLIC DRINK', 'isChargeable': True, 'amenityType': 'MEAL', 'amenityProvider': {'name': 'BrandedFare'}}, {'description': 'NON ALCOHOLIC DRINK', 'isChargeable': False, 'amenityType': 'MEAL', 'amenityProvider': {'name': 'BrandedFare'}}]}, {'segmentId': '15', 'cabin': 'ECONOMY', 'fareBasis': 'OI4AUEL1', 'brandedFare': 'DN', 'brandedFareLabel': 'BLUE BASIC', 'class': 'L', 'includedCheckedBags': {'quantity': 0}, 'amenities': [{'description': 'CHECKED BAG FIRST', 'isChargeable': True, 'amenityType': 'BAGGAGE', 'amenityProvider': {'name': 'BrandedFare'}}, {'description': 'CHECKED BAG SECOND', 'isChargeable': True, 'amenityType': 'BAGGAGE', 'amenityProvider': {'name': 'BrandedFare'}}, {'description': 'EXTRA LEGROOM', 'isChargeable': True, 'amenityType': 'PRE_RESERVED_SEAT', 'amenityProvider': {'name': 'BrandedFare'}}, {'description': 'ADVANCE SEAT SELECTION', 'isChargeable': True, 'amenityType': 'PRE_RESERVED_SEAT', 'amenityProvider': {'name': 'BrandedFare'}}, {'description': 'SNACK', 'isChargeable': False, 'amenityType': 'MEAL', 'amenityProvider': {'name': 'BrandedFare'}}, {'description': 'ALCOHOLIC DRINK', 'isChargeable': True, 'amenityType': 'MEAL', 'amenityProvider': {'name': 'BrandedFare'}}, {'description': 'NON ALCOHOLIC DRINK', 'isChargeable': False, 'amenityType': 'MEAL', 'amenityProvider': {'name': 'BrandedFare'}}]}]}]}, {'type': 'flight-offer', 'id': '25', 'source': 'GDS', 'instantTicketingRequired': False, 'nonHomogeneous': False, 'oneWay': False, 'isUpsellOffer': False, 'lastTicketingDate': '2024-09-21', 'lastTicketingDateTime': '2024-09-21', 'numberOfBookableSeats': 7, 'itineraries': [{'duration': 'PT19H24M', 'segments': [{'departure': {'iataCode': 'LAX', 'terminal': '5', 'at': '2024-10-15T15:10:00'}, 'arrival': {'iataCode': 'FLL', 'terminal': '3', 'at': '2024-10-15T23:10:00'}, 'carrierCode': 'B6', 'number': '100', 'aircraft': {'code': '32S'}, 'operating': {'carrierCode': 'B6'}, 'duration': 'PT5H', 'id': '19', 'numberOfStops': 0, 'blacklistedInEU': False}, {'departure': {'iataCode': 'FLL', 'terminal': '3', 'at': '2024-10-16T10:40:00'}, 'arrival': {'iataCode': 'JFK', 'terminal': '5', 'at': '2024-10-16T13:34:00'}, 'carrierCode': 'B6', 'number': '602', 'aircraft': {'code': '321'}, 'operating': {'carrierCode': 'B6'}, 'duration': 'PT2H54M', 'id': '20', 'numberOfStops': 0, 'blacklistedInEU': False}]}], 'price': {'currency': 'EUR', 'total': '224.13', 'base': '183.00', 'fees': [{'amount': '0.00', 'type': 'SUPPLIER'}, {'amount': '0.00', 'type': 'TICKETING'}], 'grandTotal': '224.13'}, 'pricingOptions': {'fareType': ['PUBLISHED'], 'includedCheckedBagsOnly': False}, 'validatingAirlineCodes': ['B6'], 'travelerPricings': [{'travelerId': '1', 'fareOption': 'STANDARD', 'travelerType': 'ADULT', 'price': {'currency': 'EUR', 'total': '224.13', 'base': '183.00'}, 'fareDetailsBySegment': [{'segmentId': '19', 'cabin': 'ECONOMY', 'fareBasis': 'UI4AUEL1', 'brandedFare': 'DN', 'brandedFareLabel': 'BLUE BASIC', 'class': 'L', 'includedCheckedBags': {'quantity': 0}, 'amenities': [{'description': 'CHECKED BAG FIRST', 'isChargeable': True, 'amenityType': 'BAGGAGE', 'amenityProvider': {'name': 'BrandedFare'}}, {'description': 'CHECKED BAG SECOND', 'isChargeable': True, 'amenityType': 'BAGGAGE', 'amenityProvider': {'name': 'BrandedFare'}}, {'description': 'EXTRA LEGROOM', 'isChargeable': True, 'amenityType': 'PRE_RESERVED_SEAT', 'amenityProvider': {'name': 'BrandedFare'}}, {'description': 'ADVANCE SEAT SELECTION', 'isChargeable': True, 'amenityType': 'PRE_RESERVED_SEAT', 'amenityProvider': {'name': 'BrandedFare'}}, {'description': 'SNACK', 'isChargeable': False, 'amenityType': 'MEAL', 'amenityProvider': {'name': 'BrandedFare'}}, {'description': 'ALCOHOLIC DRINK', 'isChargeable': True, 'amenityType': 'MEAL', 'amenityProvider': {'name': 'BrandedFare'}}, {'description': 'NON ALCOHOLIC DRINK', 'isChargeable': False, 'amenityType': 'MEAL', 'amenityProvider': {'name': 'BrandedFare'}}]}, {'segmentId': '20', 'cabin': 'ECONOMY', 'fareBasis': 'OI4AUEL1', 'brandedFare': 'DN', 'brandedFareLabel': 'BLUE BASIC', 'class': 'L', 'includedCheckedBags': {'quantity': 0}, 'amenities': [{'description': 'CHECKED BAG FIRST', 'isChargeable': True, 'amenityType': 'BAGGAGE', 'amenityProvider': {'name': 'BrandedFare'}}, {'description': 'CHECKED BAG SECOND', 'isChargeable': True, 'amenityType': 'BAGGAGE', 'amenityProvider': {'name': 'BrandedFare'}}, {'description': 'EXTRA LEGROOM', 'isChargeable': True, 'amenityType': 'PRE_RESERVED_SEAT', 'amenityProvider': {'name': 'BrandedFare'}}, {'description': 'ADVANCE SEAT SELECTION', 'isChargeable': True, 'amenityType': 'PRE_RESERVED_SEAT', 'amenityProvider': {'name': 'BrandedFare'}}, {'description': 'SNACK', 'isChargeable': False, 'amenityType': 'MEAL', 'amenityProvider': {'name': 'BrandedFare'}}, {'description': 'ALCOHOLIC DRINK', 'isChargeable': True, 'amenityType': 'MEAL', 'amenityProvider': {'name': 'BrandedFare'}}, {'description': 'NON ALCOHOLIC DRINK', 'isChargeable': False, 'amenityType': 'MEAL', 'amenityProvider': {'name': 'BrandedFare'}}]}]}]}, {'type': 'flight-offer', 'id': '26', 'source': 'GDS', 'instantTicketingRequired': False, 'nonHomogeneous': False, 'oneWay': False, 'isUpsellOffer': False, 'lastTicketingDate': '2024-09-21', 'lastTicketingDateTime': '2024-09-21', 'numberOfBookableSeats': 7, 'itineraries': [{'duration': 'PT16H3M', 'segments': [{'departure': {'iataCode': 'LAX', 'terminal': '5', 'at': '2024-10-15T11:35:00'}, 'arrival': {'iataCode': 'BOS', 'terminal': 'C', 'at': '2024-10-15T20:11:00'}, 'carrierCode': 'B6', 'number': '188', 'aircraft': {'code': '32S'}, 'operating': {'carrierCode': 'B6'}, 'duration': 'PT5H36M', 'id': '3', 'numberOfStops': 0, 'blacklistedInEU': False}, {'departure': {'iataCode': 'BOS', 'terminal': 'C', 'at': '2024-10-16T05:30:00'}, 'arrival': {'iataCode': 'JFK', 'terminal': '5', 'at': '2024-10-16T06:38:00'}, 'carrierCode': 'B6', 'number': '917', 'aircraft': {'code': '320'}, 'operating': {'carrierCode': 'B6'}, 'duration': 'PT1H8M', 'id': '4', 'numberOfStops': 0, 'blacklistedInEU': False}]}], 'price': {'currency': 'EUR', 'total': '241.33', 'base': '199.00', 'fees': [{'amount': '0.00', 'type': 'SUPPLIER'}, {'amount': '0.00', 'type': 'TICKETING'}], 'grandTotal': '241.33'}, 'pricingOptions': {'fareType': ['PUBLISHED'], 'includedCheckedBagsOnly': False}, 'validatingAirlineCodes': ['B6'], 'travelerPricings': [{'travelerId': '1', 'fareOption': 'STANDARD', 'travelerType': 'ADULT', 'price': {'currency': 'EUR', 'total': '241.33', 'base': '199.00'}, 'fareDetailsBySegment': [{'segmentId': '3', 'cabin': 'ECONOMY', 'fareBasis': 'SI2QBZL1', 'brandedFare': 'DN', 'brandedFareLabel': 'BLUE BASIC', 'class': 'L', 'includedCheckedBags': {'quantity': 0}, 'amenities': [{'description': 'CHECKED BAG FIRST', 'isChargeable': True, 'amenityType': 'BAGGAGE', 'amenityProvider': {'name': 'BrandedFare'}}, {'description': 'CHECKED BAG SECOND', 'isChargeable': True, 'amenityType': 'BAGGAGE', 'amenityProvider': {'name': 'BrandedFare'}}, {'description': 'EXTRA LEGROOM', 'isChargeable': True, 'amenityType': 'PRE_RESERVED_SEAT', 'amenityProvider': {'name': 'BrandedFare'}}, {'description': 'ADVANCE SEAT SELECTION', 'isChargeable': True, 'amenityType': 'PRE_RESERVED_SEAT', 'amenityProvider': {'name': 'BrandedFare'}}, {'description': 'SNACK', 'isChargeable': False, 'amenityType': 'MEAL', 'amenityProvider': {'name': 'BrandedFare'}}, {'description': 'ALCOHOLIC DRINK', 'isChargeable': True, 'amenityType': 'MEAL', 'amenityProvider': {'name': 'BrandedFare'}}, {'description': 'NON ALCOHOLIC DRINK', 'isChargeable': False, 'amenityType': 'MEAL', 'amenityProvider': {'name': 'BrandedFare'}}]}, {'segmentId': '4', 'cabin': 'ECONOMY', 'fareBasis': 'OI4AUEL1', 'brandedFare': 'DN', 'brandedFareLabel': 'BLUE BASIC', 'class': 'L', 'includedCheckedBags': {'quantity': 0}, 'amenities': [{'description': 'CHECKED BAG FIRST', 'isChargeable': True, 'amenityType': 'BAGGAGE', 'amenityProvider': {'name': 'BrandedFare'}}, {'description': 'CHECKED BAG SECOND', 'isChargeable': True, 'amenityType': 'BAGGAGE', 'amenityProvider': {'name': 'BrandedFare'}}, {'description': 'EXTRA LEGROOM', 'isChargeable': True, 'amenityType': 'PRE_RESERVED_SEAT', 'amenityProvider': {'name': 'BrandedFare'}}, {'description': 'ADVANCE SEAT SELECTION', 'isChargeable': True, 'amenityType': 'PRE_RESERVED_SEAT', 'amenityProvider': {'name': 'BrandedFare'}}, {'description': 'SNACK', 'isChargeable': False, 'amenityType': 'MEAL', 'amenityProvider': {'name': 'BrandedFare'}}, {'description': 'ALCOHOLIC DRINK', 'isChargeable': True, 'amenityType': 'MEAL', 'amenityProvider': {'name': 'BrandedFare'}}, {'description': 'NON ALCOHOLIC DRINK', 'isChargeable': False, 'amenityType': 'MEAL', 'amenityProvider': {'name': 'BrandedFare'}}]}]}]}, {'type': 'flight-offer', 'id': '27', 'source': 'GDS', 'instantTicketingRequired': False, 'nonHomogeneous': False, 'oneWay': False, 'isUpsellOffer': False, 'lastTicketingDate': '2024-09-21', 'lastTicketingDateTime': '2024-09-21', 'numberOfBookableSeats': 7, 'itineraries': [{'duration': 'PT8H56M', 'segments': [{'departure': {'iataCode': 'LAX', 'terminal': '5', 'at': '2024-10-15T11:25:00'}, 'arrival': {'iataCode': 'FLL', 'terminal': '3', 'at': '2024-10-15T19:33:00'}, 'carrierCode': 'B6', 'number': '1700', 'aircraft': {'code': '32S'}, 'operating': {'carrierCode': 'B6'}, 'duration': 'PT5H8M', 'id': '52', 'numberOfStops': 0, 'blacklistedInEU': False}, {'departure': {'iataCode': 'FLL', 'terminal': '3', 'at': '2024-10-15T20:30:00'}, 'arrival': {'iataCode': 'JFK', 'terminal': '5', 'at': '2024-10-15T23:21:00'}, 'carrierCode': 'B6', 'number': '2202', 'aircraft': {'code': '320'}, 'operating': {'carrierCode': 'B6'}, 'duration': 'PT2H51M', 'id': '53', 'numberOfStops': 0, 'blacklistedInEU': False}]}], 'price': {'currency': 'EUR', 'total': '282.47', 'base': '242.00', 'fees': [{'amount': '0.00', 'type': 'SUPPLIER'}, {'amount': '0.00', 'type': 'TICKETING'}], 'grandTotal': '282.47'}, 'pricingOptions': {'fareType': ['PUBLISHED'], 'includedCheckedBagsOnly': False}, 'validatingAirlineCodes': ['B6'], 'travelerPricings': [{'travelerId': '1', 'fareOption': 'STANDARD', 'travelerType': 'ADULT', 'price': {'currency': 'EUR', 'total': '282.47', 'base': '242.00'}, 'fareDetailsBySegment': [{'segmentId': '52', 'cabin': 'ECONOMY', 'fareBasis': 'MI0AUEL1', 'brandedFare': 'DN', 'brandedFareLabel': 'BLUE BASIC', 'class': 'L', 'includedCheckedBags': {'quantity': 0}, 'amenities': [{'description': 'CHECKED BAG FIRST', 'isChargeable': True, 'amenityType': 'BAGGAGE', 'amenityProvider': {'name': 'BrandedFare'}}, {'description': 'CHECKED BAG SECOND', 'isChargeable': True, 'amenityType': 'BAGGAGE', 'amenityProvider': {'name': 'BrandedFare'}}, {'description': 'EXTRA LEGROOM', 'isChargeable': True, 'amenityType': 'PRE_RESERVED_SEAT', 'amenityProvider': {'name': 'BrandedFare'}}, {'description': 'ADVANCE SEAT SELECTION', 'isChargeable': True, 'amenityType': 'PRE_RESERVED_SEAT', 'amenityProvider': {'name': 'BrandedFare'}}, {'description': 'SNACK', 'isChargeable': False, 'amenityType': 'MEAL', 'amenityProvider': {'name': 'BrandedFare'}}, {'description': 'ALCOHOLIC DRINK', 'isChargeable': True, 'amenityType': 'MEAL', 'amenityProvider': {'name': 'BrandedFare'}}, {'description': 'NON ALCOHOLIC DRINK', 'isChargeable': False, 'amenityType': 'MEAL', 'amenityProvider': {'name': 'BrandedFare'}}]}, {'segmentId': '53', 'cabin': 'ECONOMY', 'fareBasis': 'OI4AUEL1', 'brandedFare': 'DN', 'brandedFareLabel': 'BLUE BASIC', 'class': 'L', 'includedCheckedBags': {'quantity': 0}, 'amenities': [{'description': 'CHECKED BAG FIRST', 'isChargeable': True, 'amenityType': 'BAGGAGE', 'amenityProvider': {'name': 'BrandedFare'}}, {'description': 'CHECKED BAG SECOND', 'isChargeable': True, 'amenityType': 'BAGGAGE', 'amenityProvider': {'name': 'BrandedFare'}}, {'description': 'EXTRA LEGROOM', 'isChargeable': True, 'amenityType': 'PRE_RESERVED_SEAT', 'amenityProvider': {'name': 'BrandedFare'}}, {'description': 'ADVANCE SEAT SELECTION', 'isChargeable': True, 'amenityType': 'PRE_RESERVED_SEAT', 'amenityProvider': {'name': 'BrandedFare'}}, {'description': 'SNACK', 'isChargeable': False, 'amenityType': 'MEAL', 'amenityProvider': {'name': 'BrandedFare'}}, {'description': 'ALCOHOLIC DRINK', 'isChargeable': True, 'amenityType': 'MEAL', 'amenityProvider': {'name': 'BrandedFare'}}, {'description': 'NON ALCOHOLIC DRINK', 'isChargeable': False, 'amenityType': 'MEAL', 'amenityProvider': {'name': 'BrandedFare'}}]}]}]}, {'type': 'flight-offer', 'id': '28', 'source': 'GDS', 'instantTicketingRequired': False, 'nonHomogeneous': False, 'oneWay': False, 'isUpsellOffer': False, 'lastTicketingDate': '2024-09-21', 'lastTicketingDateTime': '2024-09-21', 'numberOfBookableSeats': 3, 'itineraries': [{'duration': 'PT16H9M', 'segments': [{'departure': {'iataCode': 'LAX', 'terminal': '6', 'at': '2024-10-15T21:00:00'}, 'arrival': {'iataCode': 'SEA', 'at': '2024-10-15T23:56:00'}, 'carrierCode': 'AS', 'number': '1055', 'aircraft': {'code': '73J'}, 'operating': {'carrierCode': 'AS'}, 'duration': 'PT2H56M', 'id': '7', 'numberOfStops': 0, 'blacklistedInEU': False}, {'departure': {'iataCode': 'SEA', 'at': '2024-10-16T07:35:00'}, 'arrival': {'iataCode': 'JFK', 'terminal': '7', 'at': '2024-10-16T16:09:00'}, 'carrierCode': 'AS', 'number': '34', 'aircraft': {'code': '73J'}, 'operating': {'carrierCode': 'AS'}, 'duration': 'PT5H34M', 'id': '8', 'numberOfStops': 0, 'blacklistedInEU': False}]}], 'price': {'currency': 'EUR', 'total': '327.33', 'base': '279.00', 'fees': [{'amount': '0.00', 'type': 'SUPPLIER'}, {'amount': '0.00', 'type': 'TICKETING'}], 'grandTotal': '327.33'}, 'pricingOptions': {'fareType': ['PUBLISHED'], 'includedCheckedBagsOnly': False}, 'validatingAirlineCodes': ['AS'], 'travelerPricings': [{'travelerId': '1', 'fareOption': 'STANDARD', 'travelerType': 'ADULT', 'price': {'currency': 'EUR', 'total': '327.33', 'base': '279.00'}, 'fareDetailsBySegment': [{'segmentId': '7', 'cabin': 'ECONOMY', 'fareBasis': 'GH2OXVBN', 'brandedFare': 'SV', 'brandedFareLabel': 'SAVER', 'class': 'X', 'includedCheckedBags': {'quantity': 0}, 'amenities': [{'description': 'STANDARD PIECE MAX 50LB 62LI', 'isChargeable': True, 'amenityType': 'BAGGAGE', 'amenityProvider': {'name': 'BrandedFare'}}, {'description': 'MEAL 1', 'isChargeable': True, 'amenityType': 'MEAL', 'amenityProvider': {'name': 'BrandedFare'}}, {'description': '110V AC POWER', 'isChargeable': False, 'amenityType': 'ENTERTAINMENT', 'amenityProvider': {'name': 'BrandedFare'}}, {'description': 'USB POWER', 'isChargeable': False, 'amenityType': 'ENTERTAINMENT', 'amenityProvider': {'name': 'BrandedFare'}}]}, {'segmentId': '8', 'cabin': 'ECONOMY', 'fareBasis': 'VH4OAVBN', 'brandedFare': 'SV', 'brandedFareLabel': 'SAVER', 'class': 'X', 'includedCheckedBags': {'quantity': 0}, 'amenities': [{'description': 'STANDARD PIECE MAX 50LB 62LI', 'isChargeable': True, 'amenityType': 'BAGGAGE', 'amenityProvider': {'name': 'BrandedFare'}}, {'description': 'MEAL 1', 'isChargeable': True, 'amenityType': 'MEAL', 'amenityProvider': {'name': 'BrandedFare'}}, {'description': '110V AC POWER', 'isChargeable': False, 'amenityType': 'ENTERTAINMENT', 'amenityProvider': {'name': 'BrandedFare'}}, {'description': 'USB POWER', 'isChargeable': False, 'amenityType': 'ENTERTAINMENT', 'amenityProvider': {'name': 'BrandedFare'}}]}]}]}, {'type': 'flight-offer', 'id': '29', 'source': 'GDS', 'instantTicketingRequired': False, 'nonHomogeneous': False, 'oneWay': False, 'isUpsellOffer': False, 'lastTicketingDate': '2024-09-21', 'lastTicketingDateTime': '2024-09-21', 'numberOfBookableSeats': 3, 'itineraries': [{'duration': 'PT17H14M', 'segments': [{'departure': {'iataCode': 'LAX', 'terminal': '6', 'at': '2024-10-15T19:55:00'}, 'arrival': {'iataCode': 'SEA', 'at': '2024-10-15T22:51:00'}, 'carrierCode': 'AS', 'number': '1215', 'aircraft': {'code': '73J'}, 'operating': {'carrierCode': 'AS'}, 'duration': 'PT2H56M', 'id': '12', 'numberOfStops': 0, 'blacklistedInEU': False}, {'departure': {'iataCode': 'SEA', 'at': '2024-10-16T07:35:00'}, 'arrival': {'iataCode': 'JFK', 'terminal': '7', 'at': '2024-10-16T16:09:00'}, 'carrierCode': 'AS', 'number': '34', 'aircraft': {'code': '73J'}, 'operating': {'carrierCode': 'AS'}, 'duration': 'PT5H34M', 'id': '13', 'numberOfStops': 0, 'blacklistedInEU': False}]}], 'price': {'currency': 'EUR', 'total': '327.33', 'base': '279.00', 'fees': [{'amount': '0.00', 'type': 'SUPPLIER'}, {'amount': '0.00', 'type': 'TICKETING'}], 'grandTotal': '327.33'}, 'pricingOptions': {'fareType': ['PUBLISHED'], 'includedCheckedBagsOnly': False}, 'validatingAirlineCodes': ['AS'], 'travelerPricings': [{'travelerId': '1', 'fareOption': 'STANDARD', 'travelerType': 'ADULT', 'price': {'currency': 'EUR', 'total': '327.33', 'base': '279.00'}, 'fareDetailsBySegment': [{'segmentId': '12', 'cabin': 'ECONOMY', 'fareBasis': 'GH2OXVBN', 'brandedFare': 'SV', 'brandedFareLabel': 'SAVER', 'class': 'X', 'includedCheckedBags': {'quantity': 0}, 'amenities': [{'description': 'STANDARD PIECE MAX 50LB 62LI', 'isChargeable': True, 'amenityType': 'BAGGAGE', 'amenityProvider': {'name': 'BrandedFare'}}, {'description': 'MEAL 1', 'isChargeable': True, 'amenityType': 'MEAL', 'amenityProvider': {'name': 'BrandedFare'}}, {'description': '110V AC POWER', 'isChargeable': False, 'amenityType': 'ENTERTAINMENT', 'amenityProvider': {'name': 'BrandedFare'}}, {'description': 'USB POWER', 'isChargeable': False, 'amenityType': 'ENTERTAINMENT', 'amenityProvider': {'name': 'BrandedFare'}}]}, {'segmentId': '13', 'cabin': 'ECONOMY', 'fareBasis': 'VH4OAVBN', 'brandedFare': 'SV', 'brandedFareLabel': 'SAVER', 'class': 'X', 'includedCheckedBags': {'quantity': 0}, 'amenities': [{'description': 'STANDARD PIECE MAX 50LB 62LI', 'isChargeable': True, 'amenityType': 'BAGGAGE', 'amenityProvider': {'name': 'BrandedFare'}}, {'description': 'MEAL 1', 'isChargeable': True, 'amenityType': 'MEAL', 'amenityProvider': {'name': 'BrandedFare'}}, {'description': '110V AC POWER', 'isChargeable': False, 'amenityType': 'ENTERTAINMENT', 'amenityProvider': {'name': 'BrandedFare'}}, {'description': 'USB POWER', 'isChargeable': False, 'amenityType': 'ENTERTAINMENT', 'amenityProvider': {'name': 'BrandedFare'}}]}]}]}, {'type': 'flight-offer', 'id': '30', 'source': 'GDS', 'instantTicketingRequired': False, 'nonHomogeneous': False, 'oneWay': False, 'isUpsellOffer': False, 'lastTicketingDate': '2024-09-21', 'lastTicketingDateTime': '2024-09-21', 'numberOfBookableSeats': 7, 'itineraries': [{'duration': 'PT9H10M', 'segments': [{'departure': {'iataCode': 'LAX', 'terminal': '7', 'at': '2024-10-15T19:00:00'}, 'arrival': {'iataCode': 'SAN', 'terminal': '2', 'at': '2024-10-15T20:00:00'}, 'carrierCode': 'UA', 'number': '5415', 'aircraft': {'code': 'E7W'}, 'duration': 'PT1H', 'id': '9', 'numberOfStops': 0, 'blacklistedInEU': False}, {'departure': {'iataCode': 'SAN', 'terminal': '2', 'at': '2024-10-15T22:40:00'}, 'arrival': {'iataCode': 'JFK', 'terminal': '7', 'at': '2024-10-16T07:10:00'}, 'carrierCode': 'AS', 'number': '36', 'aircraft': {'code': '73J'}, 'operating': {'carrierCode': 'AS'}, 'duration': 'PT5H30M', 'id': '10', 'numberOfStops': 0, 'blacklistedInEU': False}]}], 'price': {'currency': 'EUR', 'total': '395.35', 'base': '347.00', 'fees': [{'amount': '0.00', 'type': 'SUPPLIER'}, {'amount': '0.00', 'type': 'TICKETING'}], 'grandTotal': '395.35'}, 'pricingOptions': {'fareType': ['PUBLISHED'], 'includedCheckedBagsOnly': False}, 'validatingAirlineCodes': ['UA'], 'travelerPricings': [{'travelerId': '1', 'fareOption': 'STANDARD', 'travelerType': 'ADULT', 'price': {'currency': 'EUR', 'total': '395.35', 'base': '347.00'}, 'fareDetailsBySegment': [{'segmentId': '9', 'cabin': 'ECONOMY', 'fareBasis': 'QAA2AFEN', 'brandedFare': 'ECONOMY', 'brandedFareLabel': 'ECONOMY', 'class': 'Q', 'includedCheckedBags': {'quantity': 0}, 'amenities': [{'description': 'CHECKED BAG FIRST', 'isChargeable': True, 'amenityType': 'BAGGAGE', 'amenityProvider': {'name': 'BrandedFare'}}, {'description': 'SECOND BAG', 'isChargeable': True, 'amenityType': 'BAGGAGE', 'amenityProvider': {'name': 'BrandedFare'}}, {'description': 'PRE RESERVED SEAT ASSIGNMENT', 'isChargeable': False, 'amenityType': 'PRE_RESERVED_SEAT', 'amenityProvider': {'name': 'BrandedFare'}}, {'description': 'PRIORITY BOARDING', 'isChargeable': True, 'amenityType': 'TRAVEL_SERVICES', 'amenityProvider': {'name': 'BrandedFare'}}, {'description': 'ECONOMY TO ECONOMY PLUS', 'isChargeable': True, 'amenityType': 'UPGRADES', 'amenityProvider': {'name': 'BrandedFare'}}, {'description': 'MILEAGE ACCRUAL', 'isChargeable': False, 'amenityType': 'BRANDED_FARES', 'amenityProvider': {'name': 'BrandedFare'}}]}, {'segmentId': '10', 'cabin': 'ECONOMY', 'fareBasis': 'OH4OAVMN', 'brandedFare': 'MA', 'brandedFareLabel': 'MAIN', 'class': 'O', 'includedCheckedBags': {'quantity': 0}, 'amenities': [{'description': 'STANDARD PIECE MAX 50LB 62LI', 'isChargeable': True, 'amenityType': 'BAGGAGE', 'amenityProvider': {'name': 'BrandedFare'}}, {'description': 'SEAT ASSIGNMENT', 'isChargeable': False, 'amenityType': 'PRE_RESERVED_SEAT', 'amenityProvider': {'name': 'BrandedFare'}}, {'description': 'MEAL 1', 'isChargeable': True, 'amenityType': 'MEAL', 'amenityProvider': {'name': 'BrandedFare'}}, {'description': '110V AC POWER', 'isChargeable': False, 'amenityType': 'ENTERTAINMENT', 'amenityProvider': {'name': 'BrandedFare'}}, {'description': 'USB POWER', 'isChargeable': False, 'amenityType': 'ENTERTAINMENT', 'amenityProvider': {'name': 'BrandedFare'}}]}]}]}, {'type': 'flight-offer', 'id': '31', 'source': 'GDS', 'instantTicketingRequired': False, 'nonHomogeneous': False, 'oneWay': False, 'isUpsellOffer': False, 'lastTicketingDate': '2024-10-15', 'lastTicketingDateTime': '2024-10-15', 'numberOfBookableSeats': 9, 'itineraries': [{'duration': 'PT5H30M', 'segments': [{'departure': {'iataCode': 'LAX', 'at': '2024-10-15T07:00:00'}, 'arrival': {'iataCode': 'JFK', 'at': '2024-10-15T15:30:00'}, 'carrierCode': '6X', 'number': '3669', 'aircraft': {'code': '767'}, 'operating': {'carrierCode': '6X'}, 'duration': 'PT5H30M', 'id': '30', 'numberOfStops': 0, 'blacklistedInEU': False}]}], 'price': {'currency': 'EUR', 'total': '403.93', 'base': '363.00', 'fees': [{'amount': '0.00', 'type': 'SUPPLIER'}, {'amount': '0.00', 'type': 'TICKETING'}], 'grandTotal': '403.93', 'additionalServices': [{'amount': '1.00', 'type': 'CHECKED_BAGS'}]}, 'pricingOptions': {'fareType': ['PUBLISHED'], 'includedCheckedBagsOnly': True}, 'validatingAirlineCodes': ['6X'], 'travelerPricings': [{'travelerId': '1', 'fareOption': 'STANDARD', 'travelerType': 'ADULT', 'price': {'currency': 'EUR', 'total': '403.93', 'base': '363.00'}, 'fareDetailsBySegment': [{'segmentId': '30', 'cabin': 'ECONOMY', 'fareBasis': 'YBARRIER', 'class': 'Y', 'includedCheckedBags': {'quantity': 1}}]}]}, {'type': 'flight-offer', 'id': '32', 'source': 'GDS', 'instantTicketingRequired': False, 'nonHomogeneous': False, 'oneWay': False, 'isUpsellOffer': False, 'lastTicketingDate': '2024-10-15', 'lastTicketingDateTime': '2024-10-15', 'numberOfBookableSeats': 9, 'itineraries': [{'duration': 'PT5H40M', 'segments': [{'departure': {'iataCode': 'LAX', 'at': '2024-10-15T06:30:00'}, 'arrival': {'iataCode': 'JFK', 'at': '2024-10-15T15:10:00'}, 'carrierCode': '6X', 'number': '1280', 'aircraft': {'code': '767'}, 'operating': {'carrierCode': '6X'}, 'duration': 'PT5H40M', 'id': '43', 'numberOfStops': 0, 'blacklistedInEU': False}]}], 'price': {'currency': 'EUR', 'total': '403.93', 'base': '363.00', 'fees': [{'amount': '0.00', 'type': 'SUPPLIER'}, {'amount': '0.00', 'type': 'TICKETING'}], 'grandTotal': '403.93', 'additionalServices': [{'amount': '1.00', 'type': 'CHECKED_BAGS'}]}, 'pricingOptions': {'fareType': ['PUBLISHED'], 'includedCheckedBagsOnly': True}, 'validatingAirlineCodes': ['6X'], 'travelerPricings': [{'travelerId': '1', 'fareOption': 'STANDARD', 'travelerType': 'ADULT', 'price': {'currency': 'EUR', 'total': '403.93', 'base': '363.00'}, 'fareDetailsBySegment': [{'segmentId': '43', 'cabin': 'ECONOMY', 'fareBasis': 'YBARRIER', 'class': 'Y', 'includedCheckedBags': {'quantity': 1}}]}]}, {'type': 'flight-offer', 'id': '33', 'source': 'GDS', 'instantTicketingRequired': False, 'nonHomogeneous': False, 'oneWay': False, 'isUpsellOffer': False, 'lastTicketingDate': '2024-09-21', 'lastTicketingDateTime': '2024-09-21', 'numberOfBookableSeats': 7, 'itineraries': [{'duration': 'PT8H3M', 'segments': [{'departure': {'iataCode': 'LAX', 'terminal': '7', 'at': '2024-10-15T08:15:00'}, 'arrival': {'iataCode': 'IAH', 'terminal': 'C', 'at': '2024-10-15T13:38:00'}, 'carrierCode': 'UA', 'number': '1416', 'aircraft': {'code': '7M9'}, 'operating': {'carrierCode': 'UA'}, 'duration': 'PT3H23M', 'id': '1', 'numberOfStops': 0, 'blacklistedInEU': False}, {'departure': {'iataCode': 'IAH', 'terminal': 'A', 'at': '2024-10-15T14:40:00'}, 'arrival': {'iataCode': 'JFK', 'terminal': '5', 'at': '2024-10-15T19:18:00'}, 'carrierCode': 'B6', 'number': '82', 'aircraft': {'code': '320'}, 'operating': {'carrierCode': 'B6'}, 'duration': 'PT3H38M', 'id': '2', 'numberOfStops': 0, 'blacklistedInEU': False}]}], 'price': {'currency': 'EUR', 'total': '1421.97', 'base': '1302.00', 'fees': [{'amount': '0.00', 'type': 'SUPPLIER'}, {'amount': '0.00', 'type': 'TICKETING'}], 'grandTotal': '1421.97'}, 'pricingOptions': {'fareType': ['PUBLISHED'], 'includedCheckedBagsOnly': False}, 'validatingAirlineCodes': ['TK'], 'travelerPricings': [{'travelerId': '1', 'fareOption': 'STANDARD', 'travelerType': 'ADULT', 'price': {'currency': 'EUR', 'total': '1421.97', 'base': '1302.00'}, 'fareDetailsBySegment': [{'segmentId': '1', 'cabin': 'ECONOMY', 'fareBasis': 'QAK2AZES', 'brandedFare': 'ECONOMY', 'brandedFareLabel': 'ECONOMY', 'class': 'Q', 'includedCheckedBags': {'quantity': 0}, 'amenities': [{'description': 'CHECKED BAG FIRST', 'isChargeable': True, 'amenityType': 'BAGGAGE', 'amenityProvider': {'name': 'BrandedFare'}}, {'description': 'SECOND BAG', 'isChargeable': True, 'amenityType': 'BAGGAGE', 'amenityProvider': {'name': 'BrandedFare'}}, {'description': 'PRE RESERVED SEAT ASSIGNMENT', 'isChargeable': False, 'amenityType': 'PRE_RESERVED_SEAT', 'amenityProvider': {'name': 'BrandedFare'}}, {'description': 'PRIORITY BOARDING', 'isChargeable': True, 'amenityType': 'TRAVEL_SERVICES', 'amenityProvider': {'name': 'BrandedFare'}}, {'description': 'ECONOMY TO ECONOMY PLUS', 'isChargeable': True, 'amenityType': 'UPGRADES', 'amenityProvider': {'name': 'BrandedFare'}}, {'description': 'MILEAGE ACCRUAL', 'isChargeable': False, 'amenityType': 'BRANDED_FARES', 'amenityProvider': {'name': 'BrandedFare'}}]}, {'segmentId': '2', 'cabin': 'ECONOMY', 'fareBasis': 'YREFY5', 'brandedFare': 'AR', 'brandedFareLabel': 'BLUE REF', 'class': 'Y', 'includedCheckedBags': {'quantity': 0}, 'amenities': [{'description': 'CHECKED BAG FIRST', 'isChargeable': True, 'amenityType': 'BAGGAGE', 'amenityProvider': {'name': 'BrandedFare'}}, {'description': 'CHECKED BAG SECOND', 'isChargeable': True, 'amenityType': 'BAGGAGE', 'amenityProvider': {'name': 'BrandedFare'}}, {'description': 'EXTRA LEGROOM', 'isChargeable': True, 'amenityType': 'PRE_RESERVED_SEAT', 'amenityProvider': {'name': 'BrandedFare'}}, {'description': 'ADVANCE SEAT SELECTION', 'isChargeable': False, 'amenityType': 'PRE_RESERVED_SEAT', 'amenityProvider': {'name': 'BrandedFare'}}, {'description': 'SNACK', 'isChargeable': False, 'amenityType': 'MEAL', 'amenityProvider': {'name': 'BrandedFare'}}, {'description': 'ALCOHOLIC DRINK', 'isChargeable': True, 'amenityType': 'MEAL', 'amenityProvider': {'name': 'BrandedFare'}}, {'description': 'NON ALCOHOLIC DRINK', 'isChargeable': False, 'amenityType': 'MEAL', 'amenityProvider': {'name': 'BrandedFare'}}]}]}]}], 'dictionaries': {'locations': {'SAN': {'cityCode': 'SAN', 'countryCode': 'US'}, 'IAH': {'cityCode': 'HOU', 'countryCode': 'US'}, 'LAX': {'cityCode': 'LAX', 'countryCode': 'US'}, 'ONT': {'cityCode': 'LAX', 'countryCode': 'US'}, 'PDX': {'cityCode': 'PDX', 'countryCode': 'US'}, 'BOS': {'cityCode': 'BOS', 'countryCode': 'US'}, 'FLL': {'cityCode': 'FLL', 'countryCode': 'US'}, 'MSP': {'cityCode': 'MSP', 'countryCode': 'US'}, 'JFK': {'cityCode': 'NYC', 'countryCode': 'US'}, 'SEA': {'cityCode': 'SEA', 'countryCode': 'US'}}, 'aircraft': {'320': 'AIRBUS A320', '321': 'AIRBUS A321', '7M9': 'BOEING 737 MAX 9', '32S': 'AIRBUS INDUSTRIE A318/A319/A320/A321', 'E7W': 'EMBRAER 175 (ENHANCED WINGLETS)', '767': 'BOEING 767', '738': 'BOEING 737-800', 'E90': 'EMBRAER 190', '73J': 'BOEING 737-900'}, 'currencies': {'EUR': 'EURO'}, 'carriers': {'AS': 'ALASKA AIRLINES', '6X': 'AMADEUS SIX', 'B6': 'JETBLUE AIRWAYS', 'SY': 'SUN COUNTRY', 'UA': 'UNITED AIRLINES'}}}\n"
          ]
        }
      ]
    },
    {
      "cell_type": "code",
      "source": [
        "def get_flight_offers_mock(origin, destination, departure_date):\n",
        "    return {\n",
        "        \"flights\": [\n",
        "            {\"flight\": \"LA123\", \"price\": \"$200\", \"departure_time\": \"10:00 AM\", \"arrival_time\": \"2:00 PM\"},\n",
        "            {\"flight\": \"LA456\", \"price\": \"$220\", \"departure_time\": \"1:00 PM\", \"arrival_time\": \"5:00 PM\"}\n",
        "        ]\n",
        "    }\n"
      ],
      "metadata": {
        "id": "3mL5ve83BbNW"
      },
      "execution_count": null,
      "outputs": []
    },
    {
      "cell_type": "markdown",
      "source": [
        "Task 5: Personalized Travel Recommendations\n",
        "\n",
        "You can implement simple logic to recommend travel destinations based on preferences."
      ],
      "metadata": {
        "id": "YnKGD_7m7EGv"
      }
    },
    {
      "cell_type": "code",
      "source": [
        "def recommend_destination(user_preferences):\n",
        "    if 'beach' in user_preferences:\n",
        "        return 'How about visiting Hawaii or Bali?'\n",
        "    elif 'adventure' in user_preferences:\n",
        "        return 'You might enjoy hiking in the Swiss Alps!'\n",
        "    else:\n",
        "        return 'I recommend visiting Paris for a cultural experience.'\n",
        "\n",
        "# Example user preferences\n",
        "user_prefs = ['beach', 'luxury']\n",
        "print(recommend_destination(user_prefs))\n"
      ],
      "metadata": {
        "colab": {
          "base_uri": "https://localhost:8080/"
        },
        "id": "6ensBsgw7Fhe",
        "outputId": "c4b9f983-962e-4fdd-b6d6-ced3b7a91a92"
      },
      "execution_count": null,
      "outputs": [
        {
          "output_type": "stream",
          "name": "stdout",
          "text": [
            "How about visiting Hawaii or Bali?\n"
          ]
        }
      ]
    },
    {
      "cell_type": "markdown",
      "source": [
        "Task 6: Booking and Cancellation Management\n",
        "\n",
        "You can simulate booking and cancellation management, either via database operations or API calls."
      ],
      "metadata": {
        "id": "0ykIOchRADe9"
      }
    },
    {
      "cell_type": "code",
      "source": [
        "def book_flight(flight_number, user_details):\n",
        "    # Perform booking logic here (using API or database)\n",
        "    print(f\"Booking flight {flight_number} for {user_details['name']}\")\n",
        "    return \"Booking Confirmed\"\n",
        "\n",
        "def cancel_booking(booking_id):\n",
        "    # Perform cancellation logic here\n",
        "    print(f\"Cancelling booking {booking_id}\")\n",
        "    return \"Booking Cancelled\"\n",
        "\n",
        "# Example booking\n",
        "user_details = {'name': 'John Doe', 'email': 'john@example.com'}\n",
        "print(book_flight('AA123', user_details))\n",
        "print(cancel_booking('ABC123'))\n"
      ],
      "metadata": {
        "colab": {
          "base_uri": "https://localhost:8080/"
        },
        "id": "L2NYj6rnAFTb",
        "outputId": "fc078ccb-69b1-427c-f6a3-2fe3e39a6464"
      },
      "execution_count": null,
      "outputs": [
        {
          "output_type": "stream",
          "name": "stdout",
          "text": [
            "Booking flight AA123 for John Doe\n",
            "Booking Confirmed\n",
            "Cancelling booking ABC123\n",
            "Booking Cancelled\n"
          ]
        }
      ]
    },
    {
      "cell_type": "markdown",
      "source": [
        "Task 7: Real-Time Travel Updates and Customer Support\n",
        "\n",
        "Simulate real-time updates using predefined messages and offer basic customer support using a rule-based approach."
      ],
      "metadata": {
        "id": "oCnUhbpeBepA"
      }
    },
    {
      "cell_type": "code",
      "source": [
        "def provide_real_time_update(flight_number):\n",
        "    updates = {\n",
        "        'AA123': 'Your flight is delayed by 30 minutes.',\n",
        "        'BA456': 'Your flight is on time.'\n",
        "    }\n",
        "    return updates.get(flight_number, \"No updates available\")\n",
        "\n",
        "# Example usage\n",
        "print(provide_real_time_update('AA123'))\n",
        "\n",
        "def customer_support(query):\n",
        "    faqs = {\n",
        "        'change flight': 'You can change your flight by visiting the \"Manage Booking\" section.',\n",
        "        'cancel flight': 'You can cancel your flight by contacting customer service.'\n",
        "    }\n",
        "    return faqs.get(query.lower(), 'Please contact our support for further assistance.')\n",
        "\n",
        "# Example support query\n",
        "print(customer_support('change flight'))\n"
      ],
      "metadata": {
        "colab": {
          "base_uri": "https://localhost:8080/"
        },
        "id": "kP_2JbUfBgIn",
        "outputId": "2288bfb3-96a4-41dc-c8db-3acaa32f1541"
      },
      "execution_count": null,
      "outputs": [
        {
          "output_type": "stream",
          "name": "stdout",
          "text": [
            "Your flight is delayed by 30 minutes.\n",
            "You can change your flight by visiting the \"Manage Booking\" section.\n"
          ]
        }
      ]
    }
  ]
}